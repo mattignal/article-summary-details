{
  "nbformat": 4,
  "nbformat_minor": 0,
  "metadata": {
    "colab": {
      "name": "Article_Summary_Details.ipynb",
      "provenance": [],
      "collapsed_sections": [],
      "authorship_tag": "ABX9TyOqplS/ztOBB+w+6vPQrDwy",
      "include_colab_link": true
    },
    "kernelspec": {
      "name": "python3",
      "display_name": "Python 3"
    },
    "language_info": {
      "name": "python"
    }
  },
  "cells": [
    {
      "cell_type": "markdown",
      "metadata": {
        "id": "view-in-github",
        "colab_type": "text"
      },
      "source": [
        "<a href=\"https://colab.research.google.com/github/mattignal/article-summary-details/blob/main/Article_Summary_Details.ipynb\" target=\"_parent\"><img src=\"https://colab.research.google.com/assets/colab-badge.svg\" alt=\"Open In Colab\"/></a>"
      ]
    },
    {
      "cell_type": "markdown",
      "metadata": {
        "id": "37QapQ0BgQFR"
      },
      "source": [
        "\n",
        "\n",
        "\n",
        "# Summarization Exercise with Two Articles\n",
        "\n",
        "Can we quickly produce useful abstracts and key details?\n",
        "\n"
      ]
    },
    {
      "cell_type": "code",
      "metadata": {
        "id": "9DTm7uMsLz8Z"
      },
      "source": [
        "# Requirements, uncomment to run\n",
        "\n",
        "# !pip install newspaper3k\n",
        "# !pip install transformers # > 2.2.0\n",
        "# !pip install bert-extractive-summarizer\n",
        "# !pip install spacy\n",
        "# !pip install neuralcoref\n",
        "# !python -m spacy download en_core_web_md\n",
        "# !pip install sentencepiece"
      ],
      "execution_count": 80,
      "outputs": []
    },
    {
      "cell_type": "code",
      "metadata": {
        "colab": {
          "base_uri": "https://localhost:8080/"
        },
        "id": "IfPCEWQ-L46T",
        "outputId": "ec8958c5-3a85-480c-896c-c3ac701f5fb5"
      },
      "source": [
        "# Import Statements\n",
        "import math\n",
        "import numpy as np\n",
        "import re\n",
        "from newspaper import Article\n",
        "from textwrap import TextWrapper\n",
        "from summarizer import Summarizer\n",
        "from spacy.lang.en import English\n",
        "from transformers import pipeline, BartTokenizer, BartForConditionalGeneration, BartConfig\n",
        "import torch\n",
        "import nltk\n",
        "nltk.download('punkt')\n",
        "\n",
        "wrapper = TextWrapper(width=80)"
      ],
      "execution_count": 81,
      "outputs": [
        {
          "output_type": "stream",
          "text": [
            "[nltk_data] Downloading package punkt to /root/nltk_data...\n",
            "[nltk_data]   Package punkt is already up-to-date!\n"
          ],
          "name": "stdout"
        }
      ]
    },
    {
      "cell_type": "markdown",
      "metadata": {
        "id": "t3pQ9vwpgkQ6"
      },
      "source": [
        "## Get Articles\n",
        "We'll use the newspaper3k application to quickly pull in article details"
      ]
    },
    {
      "cell_type": "code",
      "metadata": {
        "id": "vbhJ7YQsQHx_"
      },
      "source": [
        "def get_article(url):\n",
        "  \"\"\"Get info about article\"\"\"\n",
        "  article = Article(url)\n",
        "  article.download()\n",
        "  article.parse()\n",
        "  title = article.title\n",
        "  authors = article.authors\n",
        "  date = str(article.publish_date.date())\n",
        "  print(\"Title:\", wrapper.fill(title))\n",
        "  print(\"Authors:\", str(article.authors))\n",
        "  print(\"Date Published:\", date)\n",
        "  print(\"Number of characters:\", len(article.text))\n",
        "  return article, title, authors, date"
      ],
      "execution_count": 82,
      "outputs": []
    },
    {
      "cell_type": "code",
      "metadata": {
        "id": "ewA2gtqOL8IP"
      },
      "source": [
        "# # Crawl URLs with `newspaper3k`\n",
        "short_article_url = \"https://apnews.com/article/joe-biden-us-news-afghanistan-taliban-28143e059b2f07fed62f9404b58a982c\" #@param {type: 'string'}\n",
        "medium_article_url = \"https://monthlyreview.org/2009/04/01/the-credit-crisis-is-the-international-role-of-the-dollar-at-stake/\" #@param {type: 'string'}"
      ],
      "execution_count": 83,
      "outputs": []
    },
    {
      "cell_type": "code",
      "metadata": {
        "colab": {
          "base_uri": "https://localhost:8080/"
        },
        "id": "thOpEYgjOtr4",
        "outputId": "4afdb0d9-8586-416d-e855-c4ddc14c9530"
      },
      "source": [
        "article, title, authors, date = get_article(short_article_url)"
      ],
      "execution_count": 84,
      "outputs": [
        {
          "output_type": "stream",
          "text": [
            "Title: Biden seems ready to extend US troop presence in Afghanistan\n",
            "Authors: ['Robert Burns']\n",
            "Date Published: 2021-04-08\n",
            "Number of characters: 6464\n"
          ],
          "name": "stdout"
        }
      ]
    },
    {
      "cell_type": "code",
      "metadata": {
        "id": "sASj-KpCMOwH"
      },
      "source": [
        "# conversely, you can input your own text\n",
        "\n",
        "# article = \"\"\n",
        "# title = \"\"\n",
        "# authors = \"\"\n",
        "# date = \"\""
      ],
      "execution_count": 85,
      "outputs": []
    },
    {
      "cell_type": "markdown",
      "metadata": {
        "id": "jSxxQB0UgwgH"
      },
      "source": [
        "## Splitting Articles into Paragraphs\n",
        "We'll need to do some additional cleaning and prepare the data so we can summarize key details. Splitting the text into paragraphs will help accomplish this task."
      ]
    },
    {
      "cell_type": "code",
      "metadata": {
        "id": "f2bCuTskM1f9"
      },
      "source": [
        "def create_paragraphs(article):\n",
        "  \"\"\"Buckets into paragraphs for analysis\"\"\"\n",
        "  paragraphs = article.text.split('\\n\\n')\n",
        "  paragraphs = [x for x in paragraphs if len(x) > 100] # must be > 100 characters (assume else is heading or irrelevant)\n",
        "  print(\"Paragraphs:\")\n",
        "  for index, paragraph in enumerate(paragraphs): # print sentences\n",
        "    print(\"{}: {}\".format(index + 1, paragraph))\n",
        "\n",
        "  print(\"\\nYou can remove any paragraphs you deem unfit by running \\n    \"\n",
        "  \"paragraphs = drop_paragraphs(paragraphs, list_to_drop)\"\n",
        "  \"\\nwhere list_to_drop is a list of the above numbers.\")\n",
        "\n",
        "  return paragraphs\n",
        "\n",
        "def drop_paragraphs(paragraphs, list_to_drop):\n",
        "  \"\"\"function to allow the user to remove paragraphs they feel are unimportant\"\"\"\n",
        "  for i in sorted(list_to_drop, reverse=True):\n",
        "    del paragraphs[i - 1]\n",
        "  return paragraphs"
      ],
      "execution_count": 86,
      "outputs": []
    },
    {
      "cell_type": "code",
      "metadata": {
        "colab": {
          "base_uri": "https://localhost:8080/"
        },
        "id": "JeE16ARbNieI",
        "outputId": "736b49aa-d475-4c8d-d038-13bbbe713540"
      },
      "source": [
        "paragraphs = create_paragraphs(article)"
      ],
      "execution_count": 87,
      "outputs": [
        {
          "output_type": "stream",
          "text": [
            "Paragraphs:\n",
            "1: FILE - In this Nov. 28, 2019, file photo armed soldiers stand guard in the motorcade for President Donald Trump speaks during a surprise Thanksgiving Day visit to the troops at Bagram Air Field, Afghanistan. Without coming right out and saying it, President Joe Biden seems ready to let lapse a May 1 deadline for completing a withdrawal of U.S. troops from Afghanistan. Orderly withdrawals take time, and Biden is running out of it. (AP Photo/Alex Brandon, File)\n",
            "2: FILE - In this Nov. 28, 2019, file photo armed soldiers stand guard in the motorcade for President Donald Trump speaks during a surprise Thanksgiving Day visit to the troops at Bagram Air Field, Afghanistan. Without coming right out and saying it, President Joe Biden seems ready to let lapse a May 1 deadline for completing a withdrawal of U.S. troops from Afghanistan. Orderly withdrawals take time, and Biden is running out of it. (AP Photo/Alex Brandon, File)\n",
            "3: WASHINGTON (AP) — Without coming right out and saying it, President Joe Biden seems ready to let lapse a May 1 deadline for completing a withdrawal of U.S. troops from Afghanistan. Orderly withdrawals take time, and Biden is running out of it.\n",
            "4: Biden has inched so close to the deadline that his indecision amounts almost to a decision to put off, at least for a number of months, a pullout of the remaining 2,500 troops and continue supporting the Afghan military at the risk of a Taliban backlash. Removing all of the troops and their equipment in the next three weeks — along with coalition partners that cannot get out on their own — would be difficult logistically , as Biden himself suggested in late March.\n",
            "5: “It’s going to be hard to meet the May 1 deadline,” he said. “Just in terms of tactical reasons, it’s hard to get those troops out.” Tellingly, he added, “And if we leave, we’re going to do so in a safe and orderly way.”\n",
            "6: James Stavridis, a retired Navy admiral who served as NATO’s top commander from 2009 to 2013, says it would be unwise at this point to get out quickly.\n",
            "7: “Sometimes not making a decision becomes a decision, which seems the case with the May 1 deadline,” Stavridis said in an email exchange Wednesday. “The most prudent course of action feels like a six-month extension and an attempt to get the Taliban truly meeting their promises — essentially permitting a legitimate ‘conditions based’ withdrawal in the fall.”\n",
            "8: There are crosscurrents of pressure on Biden. On the one hand, he has argued for years, including during his time as vice president, when President Barack Obama ordered a huge buildup of U.S. forces, that Afghanistan is better handled as a smaller-scale counterterrorism mission. Countering Russia and China has since emerged as a higher priority.\n",
            "9: On the other hand, current and former military officers have argued that leaving now, with the Taliban in a position of relative strength and the Afghan government in a fragile state, would risk losing what has been gained in 20 years of fighting.\n",
            "10: “A withdrawal would not only leave America more vulnerable to terrorist threats; it would also have catastrophic effects in Afghanistan and the region that would not be in the interest of any of the key actors, including the Taliban,” a bipartisan experts group known as the Afghan Study Group concluded in a February report. The group, whose co-chair, retired Gen. Joseph Dunford, is a former commander of U.S. forces in Afghanistan and former chairman of the Joint Chiefs, recommended Biden extend the deadline beyond May, preferably with some sort of agreement by the Taliban.\n",
            "11: If the troops stay, Afghanistan will become Biden’s war. His decisions, now and in coming months, could determine the legacy of a 2001 U.S. invasion that was designed as a response to al-Qaida’s Sept. 11 attacks, for which the extremist group led by Osama bin Laden used Afghanistan as a haven.\n",
            "12: Biden said during the 2020 campaign that if elected he might keep a counterterrorism force in Afghanistan but also would “end the war responsibly” to ensure U.S. forces never have to return. The peace talks that began last fall between the Taliban and the Afghan government are seen as the best hope, but they have produced little so far.\n",
            "13: Postponing the U.S. withdrawal carries the risk of the Taliban resuming attacks on U.S. and coalition forces, possibly escalating the war. In a February 2020 agreement with the administration of President Donald Trump, the Taliban agreed to halt such attacks and hold peace talks with the Afghan government, in exchange for a U.S. commitment to a complete withdrawal by May 2021.\n",
            "14: When he entered the White House in January, Biden knew of the looming deadline and had time to meet it if he had chosen to do so. It became a steep logistical hurdle only because he put off a decision in favor of consulting at length inside his administration and with allies. Flying thousands of troops and their equipment out of Afghanistan in the next three weeks under the potential threat of Taliban resistance is not technically impossible, although it would appear to violate Biden’s promise not to rush.\n",
            "15: Biden undertook a review of the February 2020 agreement shortly after taking office, and as recently as Tuesday aides said he was still contemplating a way ahead in Afghanistan. White House press secretary Jen Psaki said Thursday it is likely that Biden will address the matter before May 1.\n",
            "16: “He has been consistent and clear that it is operationally challenging to get troops out by May 1, which is not a deadline he put in place,” Psaki said. “It is a timeline put in place by the prior administration.”\n",
            "17: In briefings on Afghanistan, Biden would have heard from military commanders such as Gen. Frank McKenzie, head of U.S. Central Command, who have said publicly and repeatedly that the Taliban have not fully lived up to the commitments they made in the February 2020 agreement. McKenzie and others have said violence levels are too high for a durable political settlement to be made.\n",
            "18: Congress has been cautious about reducing the U.S. military presence in Afghanistan. Last year it expressly forbade the Pentagon from using funds to reduce below 4,000 troops, but the Pentagon went ahead anyway after Trump ordered a reduction to 2,500 after he lost the election. Trump got around the legal prohibition by signing a waiver.\n",
            "19: This story has been corrected to reflect the proper spelling of the last name for James Stavridis, a retired Navy admiral.\n",
            "\n",
            "You can remove any paragraphs you deem unfit by running \n",
            "    paragraphs = drop_paragraphs(paragraphs, list_to_drop)\n",
            "where list_to_drop is a list of the above numbers.\n"
          ],
          "name": "stdout"
        }
      ]
    },
    {
      "cell_type": "code",
      "metadata": {
        "id": "xTTyCp5LQ5oO"
      },
      "source": [
        "paragraphs = drop_paragraphs(paragraphs, [1, 2, 19]) # photo details and correction"
      ],
      "execution_count": 88,
      "outputs": []
    },
    {
      "cell_type": "markdown",
      "metadata": {
        "id": "OMj3AwDHhHBF"
      },
      "source": [
        "## Models and Tokenizers\n",
        "BART, or Bidirectional and Auto-Regressive Transformers, will be used for this task as it performs well for summarization tasks. According to the docs:\n",
        "\n",
        "> BART uses a standard seq2seq/machine translation architecture with a bidirectional encoder (like BERT) and a left-to-right decoder (like GPT). \n",
        "\n",
        "> The pretraining task involves randomly shuffling the order of the original sentences and a novel in-filling scheme, where spans of text are replaced with a single mask token.\n",
        "\n",
        "> BART is particularly effective when fine tuned for text generation but also works well for comprehension tasks. It matches the performance of RoBERTa with comparable training resources on GLUE and SQuAD, achieves new state-of-the-art results on a range of abstractive dialogue, question answering, and summarization tasks, with gains of up to 6 ROUGE.\n",
        "\n",
        "Here we will use BART-CNN, which has been fine-tuned on the CNN article/summarization datatest."
      ]
    },
    {
      "cell_type": "code",
      "metadata": {
        "id": "sa6KinmuN1km"
      },
      "source": [
        "# initialize BART-CNN\n",
        "cnn_model = BartForConditionalGeneration.from_pretrained('facebook/bart-large-cnn')\n",
        "cnn_tokenizer = BartTokenizer.from_pretrained('facebook/bart-large-cnn')"
      ],
      "execution_count": 89,
      "outputs": []
    },
    {
      "cell_type": "markdown",
      "metadata": {
        "id": "z7WdGF_fiq7K"
      },
      "source": [
        "We'll need to create an abstract:"
      ]
    },
    {
      "cell_type": "code",
      "metadata": {
        "id": "GniVo3-nNj2g"
      },
      "source": [
        "def create_abstract(paragraphs, title, authors, date):\n",
        "  article_cleaned = \" \".join(paragraphs)\n",
        "  inputs = cnn_tokenizer([article_cleaned], max_length=1024, truncation=True, # limited to first 1024 tokens\n",
        "                         return_tensors='pt')\n",
        "  summary_ids = cnn_model.generate(inputs['input_ids'], num_return_sequences=1,\n",
        "                                  early_stopping=True, num_beams=3,\n",
        "                                  min_length=80, max_length=120, \n",
        "                                  do_sample=False)\n",
        "  abstract = cnn_tokenizer.decode(summary_ids[0], skip_special_tokens=True, clean_up_tokenization_spaces=True)\n",
        "  abstract = re.sub(r\", writes ([^\\s]+) ([^\\s]+).\", \", writes {}.\".format(authors[0]), abstract) # sometimes misses authors name\n",
        "  abstract = re.sub(r\", says ([^\\s]+) ([^\\s]+)\", \"\", abstract) # sometimes misses authors name\n",
        "  print(\"Title:\", wrapper.fill(title))\n",
        "  print(\"Authors:\", wrapper.fill(str(authors)))\n",
        "  print(\"Date:\", wrapper.fill(date))\n",
        "  print(\"\\nAbstract:\", wrapper.fill(abstract))"
      ],
      "execution_count": 90,
      "outputs": []
    },
    {
      "cell_type": "code",
      "metadata": {
        "colab": {
          "base_uri": "https://localhost:8080/"
        },
        "id": "3UtS9Yd5Rij_",
        "outputId": "2fb2ed10-4372-45c3-f095-086d2c0de362"
      },
      "source": [
        "create_abstract(paragraphs, title, authors, date)"
      ],
      "execution_count": 91,
      "outputs": [
        {
          "output_type": "stream",
          "text": [
            "Title: Biden seems ready to extend US troop presence in Afghanistan\n",
            "Authors: ['Robert Burns']\n",
            "Date: 2021-04-08\n",
            "\n",
            "Abstract: President Joe Biden seems ready to let lapse a May 1 deadline for completing a\n",
            "withdrawal of U.S. troops from Afghanistan. Removing all of the troops and their\n",
            "equipment in the next three weeks would be difficult logistically. If the troops\n",
            "stay, Afghanistan will become Biden’s war. His decisions, now and in coming\n",
            "months, could determine the legacy of a 2001 U.N. invasion.\n"
          ],
          "name": "stdout"
        }
      ]
    },
    {
      "cell_type": "code",
      "metadata": {
        "id": "mckzb1nxRlNH"
      },
      "source": [
        "def chunk_paragraphs(paragraphs, granularity=2):\n",
        "  \"\"\"Chunks paragraphs into start, end, and then a series of middle paragraphs\n",
        "  param granularity: controls level of detail, more granularity may mean more paragraphs to process\n",
        "  \"\"\"\n",
        "  if len(paragraphs) >= 6:\n",
        "    block_off = 2\n",
        "  elif len(paragraphs) >= 4:\n",
        "    block_off = 1\n",
        "\n",
        "  middle = paragraphs[block_off:-block_off]\n",
        "\n",
        "  lengths = []\n",
        "  chunks = []\n",
        "  paragraphs_to_chunk = []\n",
        "  present_length = 0\n",
        "  for paragraph in middle:\n",
        "    inputs = cnn_tokenizer([paragraph], return_tensors='pt', truncation=True)\n",
        "    length = len(inputs['input_ids'][0])\n",
        "    lengths.append(length)\n",
        "    avg_length = np.mean(lengths)\n",
        "    present_length += length\n",
        "    if present_length > 1024:\n",
        "      chunks.append(paragraphs_to_chunk)\n",
        "      present_length = 0\n",
        "    elif present_length >= 1024 - avg_length*granularity:\n",
        "      paragraphs_to_chunk.append(paragraph)\n",
        "      chunks.append(paragraphs_to_chunk)\n",
        "      paragraphs_to_chunk = []\n",
        "      present_length = 0\n",
        "    else:\n",
        "        paragraphs_to_chunk.append(paragraph)\n",
        "\n",
        "  if len(chunks) == 0:\n",
        "    chunks = [paragraphs_to_chunk]\n",
        "\n",
        "  start_chunks = \" \".join(paragraphs[:block_off])\n",
        "\n",
        "  last_chunk = \" \".join(chunks[-1])\n",
        "  end_chunks = \" \".join(paragraphs[-block_off:])\n",
        "  inputs = cnn_tokenizer([last_chunk], return_tensors='pt', truncation=True)\n",
        "  lc_length = len(inputs['input_ids'][0])\n",
        "  inputs = cnn_tokenizer([end_chunks], return_tensors='pt', truncation=True)\n",
        "  ec_length = len(inputs['input_ids'][0])\n",
        "  if lc_length + ec_length <= 1024 and ec_length <= 1024 - avg_length*granularity:\n",
        "    # print(\"Adding final 'middle chunk' to the end of article chunk.\")\n",
        "    end_chunks = last_chunk + \" \" + end_chunks\n",
        "    chunks = chunks[:-1]\n",
        "\n",
        "  if len(chunks) > 0:\n",
        "    chunks = [\". \".join(x) for x in chunks]\n",
        "    paragraph_chunks = [start_chunks] + chunks + [end_chunks]\n",
        "\n",
        "  else:\n",
        "      paragraph_chunks = [start_chunks] + [end_chunks]\n",
        "\n",
        "  return paragraph_chunks"
      ],
      "execution_count": 92,
      "outputs": []
    },
    {
      "cell_type": "code",
      "metadata": {
        "colab": {
          "base_uri": "https://localhost:8080/"
        },
        "id": "MmtKv0PCSIZd",
        "outputId": "e5c4a37c-7dd5-4464-ec66-01bfa729b43c"
      },
      "source": [
        "paragraph_chunks = chunk_paragraphs(paragraphs, granularity=10)\n",
        "print(\"Number of chunks:\", len(paragraph_chunks)) # I want three chunks to summarize, granularity 10 seems to work"
      ],
      "execution_count": 93,
      "outputs": [
        {
          "output_type": "stream",
          "text": [
            "Number of chunks: 3\n"
          ],
          "name": "stdout"
        }
      ]
    },
    {
      "cell_type": "markdown",
      "metadata": {
        "id": "mADPfcQLizDK"
      },
      "source": [
        "And get key details:"
      ]
    },
    {
      "cell_type": "code",
      "metadata": {
        "id": "jAwmSECaSM8c"
      },
      "source": [
        "def key_details(paragraph_chunks):\n",
        "  \"\"\"Gets key ideas and details from each part of article\"\"\"\n",
        "  details_list = []\n",
        "  for chunk in paragraph_chunks:\n",
        "    inputs = cnn_tokenizer([chunk], max_length=1024, return_tensors='pt', truncation=True)\n",
        "    summary_ids = cnn_model.generate(inputs['input_ids'], num_return_sequences=1, output_scores=False, \n",
        "                                  early_stopping=True, num_beams=3, length_penalty=0.2)\n",
        "    key_idea = [cnn_tokenizer.decode(g, skip_special_tokens=True, clean_up_tokenization_spaces=True) for g in summary_ids]\n",
        "    key_idea = re.sub(r'(\\\"[^\\\"]*)\\\" [A-Z]', r'\\1.\" ', key_idea[0]) # second quotation(\") fix\n",
        "    key_idea = key_idea.replace('. “', '.“') # additional quotation fix\n",
        "    key_idea = re.sub(r\", writes ([^\\s]+) ([^\\s]+).\", \".\", key_idea) # sometimes misses authors name\n",
        "    key_idea = re.sub(r\", says ([^\\s]+) ([^\\s]+).\", \".\", key_idea) # sometimes misses authors name\n",
        "    key_idea = key_idea.replace(\", he says\", \"\") # sometimes misses authors name\n",
        "    key_idea = re.sub(r\"\\. \\b[A-Z].*?\\b\\: \", \". \", key_idea) # sometimes misses authors name\n",
        "    nlp = English()\n",
        "    nlp.add_pipe(nlp.create_pipe('sentencizer'))\n",
        "    key_idea = [sent.string.strip() for sent in nlp(key_idea).sents][0]\n",
        "    print(100 * '-')\n",
        "    print(\"Key Idea:\", wrapper.fill(key_idea))\n",
        "    summary_ids = cnn_model.generate(inputs['input_ids'], num_return_sequences=1,\n",
        "                                  early_stopping=True, num_beams=2, \n",
        "                                  min_length=80, \n",
        "                                  max_length=160, \n",
        "                                  do_sample=False)\n",
        "    details = [cnn_tokenizer.decode(g, skip_special_tokens=True, \n",
        "                                    clean_up_tokenization_spaces=True) for g in summary_ids][0]\n",
        "\n",
        "    # if the key idea is present in the details, let's first look for an alternative generation\n",
        "    if key_idea in details:\n",
        "      summary_ids = cnn_model.generate(inputs['input_ids'], num_return_sequences=1,\n",
        "                                  early_stopping=True, num_beams=2, \n",
        "                                  min_length=80, \n",
        "                                  max_length=160, \n",
        "                                  top_p = 0.8,\n",
        "                                  do_sample=True)\n",
        "      details_alt = [cnn_tokenizer.decode(g, skip_special_tokens=True, \n",
        "                                           clean_up_tokenization_spaces=True) for g in summary_ids]\n",
        "      \n",
        "      # if the key idea is present in the alternative, just use the original and remove the key idea\n",
        "      if key_idea in details_alt[0]:\n",
        "        details = details.replace(key_idea, \"\")\n",
        "      else:\n",
        "        details = details_alt[0]\n",
        "    \n",
        "    details = re.sub(r\", writes ([^\\s]+) ([^\\s]+).\", \".\", details) # sometimes misses authors name\n",
        "    details = re.sub(r\", says ([^\\s]+) ([^\\s]+).\", \".\", details) # sometimes misses authors name\n",
        "    details = details.replace(\", he says\", \"\") # sometimes misses authors name\n",
        "    details = re.sub(r\"\\. \\b[A-Z].*?\\b\\: \", \". \", details) # sometimes misses authors name\n",
        "    print(\"\\nDetails:\", wrapper.fill(details))\n",
        "    details_list.append(details)\n",
        "  return details_list"
      ],
      "execution_count": 94,
      "outputs": []
    },
    {
      "cell_type": "code",
      "metadata": {
        "colab": {
          "base_uri": "https://localhost:8080/"
        },
        "id": "TUCso4dNTSyS",
        "outputId": "25585e7e-d9fd-4b36-a52d-7163a9e2c5c0"
      },
      "source": [
        "details_list = key_details(paragraph_chunks)"
      ],
      "execution_count": 95,
      "outputs": [
        {
          "output_type": "stream",
          "text": [
            "----------------------------------------------------------------------------------------------------\n",
            "Key Idea: Biden has inched so close to the deadline that his indecision amounts almost to\n",
            "a decision to put off a pullout of the remaining 2,500 troops.\n",
            "\n",
            "Details: Biden has inched so close to the deadline that his indecision amounts almost to\n",
            "a decision to put off a pullout. Removing all of the troops and their equipment\n",
            "in the next three weeks would be difficult logistically. Biden himself suggested\n",
            "in late March that the U.S. should hold off on pulling out all of its 2,500\n",
            "troops until after May 1. The U.N. Security Council has set a May 1 deadline for\n",
            "completing a withdrawal.\n",
            "----------------------------------------------------------------------------------------------------\n",
            "Key Idea: “It’s going to be hard to meet the May 1 deadline,” retired Navy admiral James\n",
            "Stavridis says.\n",
            "\n",
            "Details: Biden is under pressure to act quickly to get out of Afghanistan. A retired Navy\n",
            "admiral says it would be unwise at this point to leave quickly. He calls for a\n",
            "six-month extension to get the Taliban to meet its promises. A bipartisan\n",
            "experts group says a withdrawal would leave the U.S. vulnerable to terrorist\n",
            "threats and would have catastrophic effects in the region, including the\n",
            "Taliban.\n",
            "----------------------------------------------------------------------------------------------------\n",
            "Key Idea: Biden said during the 2020 campaign that if elected he might keep a\n",
            "counterterrorism force in Afghanistan.\n",
            "\n",
            "Details: Biden's decision could determine the legacy of a 2001 U.S. invasion in\n",
            "Afghanistan. Biden said during the 2020 campaign that if elected he might keep a\n",
            "counterterrorism force in Afghanistan but also would “end the war responsibly”\n",
            "Postponing the U.K. withdrawal carries the risk of the Taliban resuming attacks\n",
            "on U.N. forces. Peace talks that began last fall between the Taliban and the\n",
            "Afghan government are seen as the best hope.\n"
          ],
          "name": "stdout"
        }
      ]
    },
    {
      "cell_type": "markdown",
      "metadata": {
        "id": "j2Skd338i2D1"
      },
      "source": [
        "This seems to work well! Let's try it on our longer, more complex article."
      ]
    },
    {
      "cell_type": "code",
      "metadata": {
        "colab": {
          "base_uri": "https://localhost:8080/"
        },
        "id": "lRdPsuQFTc8J",
        "outputId": "b5508144-46c3-4327-e576-441e1da5bcac"
      },
      "source": [
        "article, title, authors, date = get_article(medium_article_url)\n",
        "paragraphs = create_paragraphs(article)"
      ],
      "execution_count": 96,
      "outputs": [
        {
          "output_type": "stream",
          "text": [
            "Title: The Credit Crisis: Is the International Role of the Dollar at Stake?\n",
            "Authors: ['Ramaa Vasudevan', 'The Editors', 'Hannah Holleman', 'Inger L. Stole', 'John Bellamy Foster', 'Robert W. Mcchesney', 'Simten Cosar', 'Metin Yegenoglu', 'Martin Hart-Landsberg']\n",
            "Date Published: 2009-04-01\n",
            "Number of characters: 21030\n",
            "Paragraphs:\n",
            "1: Ramaa Vasudevan teaches economics at Colorado State University. She is a member of the Union for Radical Political Economics and the Dollars and Sense collective.\n",
            "2: As the first tremors of the looming financial crisis ripped through Wall Street, with the meltdown of the subprime mortgage market in the summer of 2007, the dollar plunged sharply. Perversely however, even as some financial pundits were foretelling its collapse, the deepening of the crisis following the bankruptcy of Lehman Brothers in September 2008 actually saw the dollar gain ground sharply (for the first time since the steady decline that began in 2002; see chart 1).\n",
            "3: Chart 1. Nominal major currencies dollar index Source: Federal Reserve, \"Nominal Major Currencies Dollar Index.\"\n",
            "4: For any other country a financial crisis of this magnitude would have sparked a full-scale currency crisis. Why then has the deepening of a crisis centered in the United States actually seen the reverse, the strengthening of the dollar? The answer lies in the continuing role of the dollar as international money.\n",
            "5: In “Finance, Imperialism, and the Hegemony of the Dollar,” in the April 2008 issue of Monthly Review, I argued that the privileged role of the dollar as international money has been critical to U.S. imperialist hegemony. The explosion of private financial flows globally helped the United States preserve and establish its pivotal place at the center of the international financial markets and impose a “dollar standard.” However, this process also created the conditions for its own unraveling. The present crisis, an outcome of this unfettered growth and rising dominance of finance, lays bare the contradictions of the mechanisms of the dollar standard.\n",
            "6: Two developments summarize the process so far: (1) When panic hit, the U.S. dollar’s status as “international money” asserted itself, and the dollar rose against all currencies other than the yen. (2) The implosion of the financial system, however, has threatened the foundation of dollar hegemony—its central role in the proliferating web of global private capital flows. The current crisis is thus also potentially a crisis of dollar hegemony.\n",
            "7: The Bretton Woods negotiations at the end of the Second World War paved the way for establishing the dominance of the dollar as international money. This role was sustained by the confidence that the United States with its vast reserves of gold would honor the commitment to provide gold to foreign central banks in exchange for dollars at a fixed rate of $35 per ounce. By the end of the sixties, the growing trade deficit and the burdens of its military interventions in Vietnam created a huge dollar overhang abroad. In the face of increased demands for gold in exchange for dollars the United States unilaterally abandoned gold convertibility. This, however, did not lead to the dismantling of dollar hegemony. Instead, the refashioning of the international monetary system into a “floating dollar standard” in the post–Bretton Woods period was associated with the aggressive pursuit of liberalized financial markets in order to encourage private international capital flows denominated in dollars.\n",
            "8: In the 1970s the Eurodollar markets served as the principal means of recycling oil surpluses from the oil exporters to developing economies, particularly in Latin America. This process became a tool of resurgent U.S. political dominance. The 1970s military dictatorships in Chile, Indonesia, and Argentina, and the “Chicago School” free market regimes that followed, were bolstered by repression and supported by the readily available loans from U.S. banks flush with oil funds. Once this cheap bonanza of credit came to an end with the debt crisis in 1982, a new wave of neoliberal reforms and financial liberalization was imposed through the IMF–World Bank rescue packages. The crisis was deployed to further entrench the dominance of the dollar and U.S. imperialist agenda. In country after country the IMF and World Bank imposed “structural adjustment” policies during the crisis phase that destroyed all attempts at independent economic development while engulfing their financial systems in the ambit of dollar hegemony. This set in motion another surge of dollar denominated private capital flows to emerging markets and a fresh round of crisis in the 1990s when capital flowed back to the United States.\n",
            "9: Chart 2: Private capital flows to the United States and to emerging markets (billions of dollars) Source: U.S. Bureau of Economic Analysis, Global Development Finance.\n",
            "10: From 1973, up until about 2003 (the run-up to the present crisis) the periods when flows to emerging markets surged were also periods with a net efflux from the United States. As the surge comes to an end in the wake of capital flight and crisis, as in the Latin American debt crisis in 1982–83 and the Asian crisis in 1997–98, private capital flows are sucked back into the United States (see chart 2).\n",
            "11: The privileged role of the dollar provided the United States with an international line of credit that helped fuel a consumption binge. Cheap imports allowed consumption to be sustained despite stagnant or declining real wages. The export-led economies of Asia (first Japan, later East Asia and China) in turn depended on mass consumption in the United States to drive their economies. But the dependence on cheap imports precipitated growing trade deficits. Unlike other deficit countries the United States could, because of the dollar’s role as international money, finance its growing deficits by issuing its own debt in the form of the holding of reserves and U.S. Treasury bills (T-bills) by the creditor countries.\n",
            "12: The United States has played the role of the banker to the world, drawing in surpluses from Asia and the oil exporting countries, and recycling these in the form of private capital flows to emerging markets in the periphery. The countercyclical pattern of the private flows to emerging markets, noted above, was critical to the mechanism by which the dollar’s role was preserved. These private capital flows served as a safety-valve mechanism, enabling the export of crisis to the debtor-periphery. While the United States has not been immune to episodes of financial fragility in this period—such as the 1987 stock market crash, the savings and loan crisis of the late 1980s and early ’90s, the collapse of Long-Term Capital Management in 1998, or the dot-com bust at the turn of the century—the corresponding financial crises were far greater in the periphery. By 2007 however, this mechanism had begun to lose some traction.\n",
            "13: By 2007 the United States absorbed 65 percent of global capital imports compared to 34 percent in 1995, a culmination of more than a decade of worsening global imbalances. This was accompanied by a growing stockpiling of foreign reserves by emerging markets. The emerging economies turned from being current account deficit countries through the ’80s and ’90s to acquiring increasing surpluses since 2002. By 2006 developing countries were financing more than 70 percent of U.S. current account deficits (see chart 3). At the same time, after the experience of the Asian crisis, emerging markets perceived the need to increase precautionary holdings of foreign reserves in order to insulate their economies from the impact of capital flight. Reserve holdings by developing countries rose to about $2.7 trillion in 2006 of which about 60 percent are held as dollars. Thus the periphery was not vulnerable to capital flight and foreign exchange fluctuations in the same way as it had been in the previous decades.\n",
            "14: Chart 3: Current account balances of the United States and developing countries (billions of dollars) Source: U.S. Bureau of Economic Analysis, Global Development Finance.\n",
            "15: Another difference is that the countercyclical pattern of flows that characterized the period from 1973 is no longer in evidence after 2002 (see chart 2). After the collapse of the dot-com boom in 2002, instead of launching a new credit bubble in the emerging markets, the policies followed by Alan Greenspan helped stoke a bubble in the U.S. housing market. Buyers across the globe began investing in U.S. mortgage-backed assets, and over a trillion dollars of funds from around the globe were swallowed up by the U.S. subprime markets. This helped finance the purchase of homes all over the country, and enabled the growth of debt financed consumption. The financial bubble in the United States led to the emergence of a new pattern of dollar recycling that channeled capital flows from the surplus countries in the periphery towards U.S. markets. The exploding of the bubble with the collapse of the subprime mortgage market was associated with a reversal of the recycling mechanisms that exported fragility to the periphery through the ’80s and ’90s. The unraveling of the shadow banking system in 2007 was followed by a panic pull-out of foreign private capital from U.S. assets. This further exacerbated the crisis. Private capital inflows to the United States dropped significantly in 2007. This is when the dollar went into a sharp decline, which was, however, soon reversed.\n",
            "16: In the initial stages of the subprime crisis the impact was largely contained within the North Atlantic capitalist core of the United States and Europe (particularly the United Kingdom). Emerging markets were relatively less exposed to the market for mortgage-backed securities. Capital flows to emerging markets continued to rise and flows to developing countries surged in 2007 by about 40 percent from its 2006 level. Commodity exporters, in particular, were thriving on the basis of the boom in prices as investors went scrambling for returns to the commodity futures markets.\n",
            "17: However the events in the first two weeks of September—the rescue of Fannie Mae and Freddie Mac, the bankruptcy of Lehman Brothers, the fire sale of Merrill Lynch, and the rescue of AIG—heralded the complete freezing of credit markets. Financial institutions hoarded cash and demanded ever widening premiums before lending to one another. The contagion effects of the credit crisis in the United States now spread globally, leading to capital flight from Eastern Europe, Latin America, and Asia. At a time of world crisis when markets do not have any confidence in the ability of debtors to honor their debts, and have frozen lending, T-bills—in other words international money—became the safest bet.\n",
            "18: The dollar began to rise against a host of currencies (excluding the yen) as U.S. investors repatriated funds, speculators turned increasingly averse to risk amid the growing turmoil, and market operators sought dollars to meet their lenders’ demands. Investors and banks also began to withdraw their money from investment banks and hedge funds. The result was the fire sale of assets; “deleveraging” created a sudden desperate need for cash in the form of dollars.\n",
            "19: Even as the credit machinery remained jammed and the U.S. Treasury and the Federal Reserve (hereafter referred to as the Fed) were floundering through the different incarnations of the Troubled Assets Relief Plan, the global demand for T-bills grew. Though the Fed had cut short-term interest rates, the intense demand for Treasuries from financial institutions pushed the yield even lower, briefly below zero on December 8, 2008. Panicked institutional investors were more than willing to lose a little for fear of losing a lot, and dollars in the form of T-bills seemed the safest port in the storm.\n",
            "20: Marx had argued that capitalism’s propensity to financial crisis arises “where the ever-lengthening chain of payments, and an artificial system of settling them, has been fully developed.” The growth of finance which developed as a powerful force shaping dollar hegemony over the past three decades has bred such an artificial chain of payments internationally. In Marx’s analysis a credit crisis manifests the breakdown of “the chain of payments” that constitutes the financial system. This breakdown creates a frenzied clamor for “money” as the safest and most liquid, riskless asset. This collapse of the credit mechanism to its monetary roots—manifested in the resurgent demand for T-bills—is a classic sign of monetary crisis in the history of capitalism.\n",
            "21: Writing a year ago in Monthly Review, before the credit crunch had taken hold of the global financial system, I had suggested that the surge of capital flows to emerging markets through 2007 might create the conditions leading to a fresh wave of financial crises in the periphery and the revival of flows back into the United States. By the time the full force of the panic hit in September 2008 capital had begun flowing back to the United States, and outflows from emerging market bond and equity funds reached $29.5 billion between June and September 2008 (the highest level since at least 1995). The commodity bubble in developing countries also collapsed, as investors fled from all forms of risk, and export demand fell with the impact of recessionary forces in the United States, United Kingdom, and Europe. The accumulating surpluses and reserves in emerging markets began to erode. Stock markets crashed in Asia and Latin America as investors began pulling out and seeking the safety of the dollar.\n",
            "22: Capital flight from the emerging markets has precipitated a fall in some emerging market currencies of as much as 50 percent, fueling currency crises in Iceland, Hungary, and Ukraine. Eastern Europe has been particularly vulnerable. With current account deficits approaching 7 percent of GDP and private capital inflows amounting to 11 percent of GDP in 2007—a level that exceeds that of developing countries in Asia and Latin America—it is not surprising that a severe financial crisis erupted in Eastern Europe. But where the crises of 1982–83 and 1997–98 in Latin America and East Asia were effectively deployed to further U.S. hegemony, the current economic collapse of the “shock therapy” neocapitalist regimes in Eastern Europe is a challenge to U.S. imperialism, not an opportunity.\n",
            "23: Although the emerging markets are besieged by capital flight and confront the contradictions of their export-led development strategies, the unraveling in the periphery has not, in the much more serious world crisis of today, resulted in a renewal of the financial system at the center. The inflows to the United States are largely in the markets for U.S. Treasuries rather than into the battered private financial system. The European Union is denied similar recourse since there is no comparable market for sovereign debt at the level of the European Union. As a result, paradoxically liquidity in the U.S. markets remains at all-time highs. The real problem is that despite all this liquidity the credit machinery has refused to restart as banks and financial institutions remain wary of lending, and are simply stockpiling excess reserves. In other words the supply of money is way up but its velocity is even further down, keeping deflationary forces strong. Consequently, the international financial system shows no signs of revival.\n",
            "24: The Fed lies at the heart of the international financial system. It has to juggle the conflicting claims of maintaining U.S. imperial interests and domestic imperatives. The response of the Fed and the U.S. Treasury to the current crisis is shaped by these twin domestic and international imperatives.\n",
            "25: The Fed normally regulates the volume of credit in the economy by calibrating the Federal Funds rate (the rate at which banks lend surplus funds to one another) to expand or contract credit flows. But the implosion of the financial system undermined the efficacy of traditional policy tools. While the Fed has reduced its target interest rates to near zero, there has been virtually no impact on kick-starting lending.\n",
            "26: In these circumstances the strategy that the Fed has adopted to arrest the downward spiral of asset prices is to foment inflation by expanding the money supply. The Fed is injecting short-term liquidity into the financial system by buying T-bills (in exchange for newly created cash reserves) and holding them on the central bank’s balance sheet. This policy of inflating your way out of a crisis of falling asset prices is called “quantitative easing.” Moreover, the Fed’s policy under Bernanke is not restricted to the purchase of government securities but also involves “qualitative easing” or “credit easing”—taking onto its balance sheet a wide range of financial assets of lower quality than short-term Treasury obligations. One implication of this policy is that the Fed’s balance sheet is set to expand almost without limit. Its balance sheet rose from $874 billion in August 2007 to $900 billion before the fall of Lehman Brothers. Over the few months since, it has surged to about $2 trillion. During the last quarter of 2008 the share of Treasuries on the asset side of this ballooning balance sheet declined from 90 percent to 21 percent as the Fed acquired riskier assets, including mortgage-backed securities and commercial paper.\n",
            "27: One reason why this massive injection of funds is not translating into reflation is because financial institutions are hoarding money in the form of excess reserves kept at the Fed. From normal levels of around $7 billion, these reserves are currently pushing $1 trillion and are still rising. The problem is again that this credit crisis has resulted in a collapse of the paper edifice of the bloated financial system, forcing it back on its monetary base.\n",
            "28: By reassuring investors that it will hold overnight lending rates at near zero for the foreseeable future, the Fed has essentially given traders a cost-free way to borrow overnight and invest the proceeds in higher yielding assets. The implicit hope is that the increased borrowing will be used to purchase higher-risk financial assets and revive the securities markets and financial flows into the United States. In other words foster another bubble! The financial press is already warning of the possibilities of a Treasuries bubble.\n",
            "29: The danger is that this policy would propel a flight of currency from dollar markets. The announcement of the zero-interest-rate policy and quantitative easing halted the rapid rise of the dollar after four months in which the U.S. currency recorded its biggest gains since 2002. While the U.S. Treasury bill continues to remain a globally sought safe haven, that status is unlikely to remain unscathed. The market for Treasuries is likely to face a glut of T-bills in search of buyers, as the Fed balance sheet expands and so does the government’s need for finance. The increasing debt overhang may undermine confidence in U.S. Treasuries.\n",
            "30: It is quite clear that the U.S. imperial agenda of refashioning the post-crisis world in a way that preserves dollar hegemony depends critically on China, which has finally outpaced Japan as the biggest holder of U.S. Treasuries. China has in a sense been locked into dollar holdings because selling off its mountain of Treasuries would precipitate a crash of the dollar and a collapse of its (dollar) asset base. This “balance of financial terror” underlay the arrangement where China stockpiled dollar reserves in order to pursue its strategy of export-led growth. Even though China cannot sell off its mountain, it may not be able to continue to add to its pile at the same rate either. The slowdown in Chinese exports, which began to decline sharply in the last quarter of 2008, would mean a flagging demand for U.S. Treasuries at precisely the point when issuance is skyrocketing.\n",
            "31: The twin challenges for the U.S. imperial agenda are the restortion of the domestic economy and the refashioning of the battered global financial architecture to preserve the hegemony of the dollar. Despite all the talk of the renewal of financial regulation, Main Street prevailing over Wall Street, the reality is quite different. The slew of policies the Fed is adopting, and the ones that it has not adopted, suggest that they want a recovery of the domestic economy without constraining finance. This was quite apparent in the very distinct trajectories of the fiscal stimulus and the Wall Street rescue packages through Congress. However, internationally, the global recessionary forces that have been let loose with the credit crisis have also sparked a greater clamor for protection of domestic labor and industry, and for greater regulation and supervision of international capital flows. If this is sustained by a return to economically progressive agendas across the globe, and the strengthening of “South-South” mutual support networks—independent of the control of the United States—it would erode the dominance of finance, and would further weaken the privileged position of the United States at the heart of the international financial system.\n",
            "\n",
            "You can remove any paragraphs you deem unfit by running \n",
            "    paragraphs = drop_paragraphs(paragraphs, list_to_drop)\n",
            "where list_to_drop is a list of the above numbers.\n"
          ],
          "name": "stdout"
        }
      ]
    },
    {
      "cell_type": "code",
      "metadata": {
        "id": "6SSL-veRa3yR"
      },
      "source": [
        "paragraphs = drop_paragraphs(paragraphs, [1, 3, 9, 14]) # author + charts"
      ],
      "execution_count": 97,
      "outputs": []
    },
    {
      "cell_type": "code",
      "metadata": {
        "colab": {
          "base_uri": "https://localhost:8080/"
        },
        "id": "YJdkDUORbYQo",
        "outputId": "912c3cac-c56c-438d-88d4-88b8f35e50c4"
      },
      "source": [
        "create_abstract(paragraphs, title, authors, date)\n",
        "paragraph_chunks = chunk_paragraphs(paragraphs, granularity=2)\n",
        "# print(\"Number of chunks:\", len(paragraph_chunks))\n",
        "details_list = key_details(paragraph_chunks)"
      ],
      "execution_count": 98,
      "outputs": [
        {
          "output_type": "stream",
          "text": [
            "Title: The Credit Crisis: Is the International Role of the Dollar at Stake?\n",
            "Authors: ['Ramaa Vasudevan', 'The Editors', 'Hannah Holleman', 'Inger L. Stole', 'John\n",
            "Bellamy Foster', 'Robert W. Mcchesney', 'Simten Cosar', 'Metin Yegenoglu',\n",
            "'Martin Hart-Landsberg']\n",
            "Date: 2009-04-01\n",
            "\n",
            "Abstract: U.S. dollar plunged sharply after the subprime mortgage meltdown in 2007. But\n",
            "the deepening of the crisis following the bankruptcy of Lehman Brothers in\n",
            "September 2008 saw the dollar gain ground sharply. The privileged role of the\n",
            "dollar as international money has been critical to U.S imperialist hegemony. The\n",
            "implosion of the financial system has threatened the foundation of dollar\n",
            "hegemony, writes Ramaa Vasudevan.The current crisis is thus also potentially a\n",
            "crisis ofdollar hegemony.\n",
            "----------------------------------------------------------------------------------------------------\n",
            "Key Idea: Dollar plunged in 2007 after the meltdown of the subprime mortgage market.\n",
            "\n",
            "Details: The dollar plunged sharply in 2007 after the meltdown of the subprime mortgage\n",
            "market. But the deepening of the crisis following the bankruptcy of Lehman\n",
            "Brothers in September 2008 saw the dollar gain ground. The answer lies in the\n",
            "continuing role of the dollar as international money.For any other country a\n",
            "financial crisis of this magnitude would have sparked a full-scale currency\n",
            "crisis.\n",
            "----------------------------------------------------------------------------------------------------\n",
            "Key Idea: The Bretton Woods negotiations at the end of the Second World War paved the way\n",
            "for the dominance of the dollar as international money.\n",
            "\n",
            "Details: The Bretton Woods negotiations at the end of the Second World War paved the way\n",
            "for establishing the dominance of the dollar as international money. The\n",
            "implosion of the financial system has threatened the foundation of dollar\n",
            "hegemony. The current crisis is thus also potentially a crisis ofdollar\n",
            "hegemony. In country after country the IMF and World Bank imposed “structural\n",
            "adjustment” policies during the crisis phase.\n",
            "----------------------------------------------------------------------------------------------------\n",
            "Key Idea: The privileged role of the dollar provided the United States with an\n",
            "international line of credit that helped fuel a consumption binge.\n",
            "\n",
            "Details: The privileged role of the dollar provided the U.S. with an international line\n",
            "of credit. Cheap imports allowed consumption to be sustained despite stagnant or\n",
            "declining real wages. The export-led economies of Asia depended on mass\n",
            "consumption in the United States to drive their economies. But the dependence on\n",
            "cheap imports precipitated growing trade deficits. The United States absorbed 65\n",
            "percent of global capital imports compared to 34 percent in 1995.\n",
            "----------------------------------------------------------------------------------------------------\n",
            "Key Idea: In the initial stages of the subprime crisis the impact was largely contained\n",
            "within the North Atlantic capitalist core of the United States and Europe.\n",
            "\n",
            "Details: Capital flows to emerging markets surged in 2007 by about 40 percent from its\n",
            "2006 level. Capital flight from Eastern Europe, Latin America, and Asia followed\n",
            "the credit crisis. Marx had argued that capitalism’s propensity to financial\n",
            "crisis arises “where the ever-lengthening chain of payments, and an artificial\n",
            "system of settling them, has been fully developed.” The growth of finance which\n",
            "developed as a powerful force shaping dollar hegemony over the past three\n",
            "decades has bred such an artificial chain of Payments.\n",
            "----------------------------------------------------------------------------------------------------\n",
            "Key Idea: Capital flight from the emerging markets has precipitated a fall in some\n",
            "emerging market currencies of as much as 50 percent.\n",
            "\n",
            "Details: Capital flight from the emerging markets has precipitated a fall in some\n",
            "emerging market currencies. The Fed has to juggle the conflicting claims of\n",
            "maintaining U.K. imperial interests and domestic imperatives.\n",
            "----------------------------------------------------------------------------------------------------\n",
            "Key Idea: China has finally outpaced Japan as the biggest holder of U.S. Treasuries.\n",
            "\n",
            "Details:  China has in a sense been locked into dollar holdings because selling off would\n",
            "precipitate a crash of the dollar and a collapse of its asset base. The slowdown\n",
            "in Chinese exports, which began to decline sharply in the last quarter of 2008,\n",
            "would mean a flagging demand for U.s. Tre asuries.\n"
          ],
          "name": "stdout"
        }
      ]
    },
    {
      "cell_type": "markdown",
      "metadata": {
        "id": "_vQo_yLgUebg"
      },
      "source": [
        "This looks good as well. Can we generate a summary of the important information?"
      ]
    },
    {
      "cell_type": "code",
      "metadata": {
        "id": "xUjMagvipbtd"
      },
      "source": [
        "def generate_summary(details_list, authors, granularity=2):\n",
        "  \"\"\"generates summary\"\"\"\n",
        "  paragraph_chunks = chunk_paragraphs(details_list, granularity=granularity)\n",
        "  # print(\"Number of chunks:\", len(paragraph_chunks))\n",
        "  print(\"Summary:\\n\")\n",
        "  for chunk in paragraph_chunks:\n",
        "    inputs = cnn_tokenizer([chunk], max_length=1024, truncation=True, # limited to first 1024 tokens\n",
        "                          return_tensors='pt')\n",
        "    summary_ids = cnn_model.generate(inputs['input_ids'], num_return_sequences=1,\n",
        "                                    early_stopping=True, num_beams=3,\n",
        "                                    min_length=80, max_length=120, \n",
        "                                    do_sample=False)\n",
        "    summary = cnn_tokenizer.decode(summary_ids[0], skip_special_tokens=True, clean_up_tokenization_spaces=True)\n",
        "    summary = re.sub(r\", writes ([^\\s]+) ([^\\s]+).\", \", writes {}.\".format(authors[0]), summary) # sometimes misses authors name\n",
        "    summary = re.sub(r\", says ([^\\s]+) ([^\\s]+)\", \"\", summary)\n",
        "    summary = re.sub(r\"\\. \\b[A-Z].*?\\b\\: \", \". \", summary) # sometimes misses authors name\n",
        "    print(wrapper.fill(summary), \"\\n\")\n",
        "\n"
      ],
      "execution_count": 99,
      "outputs": []
    },
    {
      "cell_type": "code",
      "metadata": {
        "colab": {
          "base_uri": "https://localhost:8080/"
        },
        "id": "Oo2vq1ItU_eH",
        "outputId": "650b54de-2bac-4c40-a5d8-f5e30069faf8"
      },
      "source": [
        "generate_summary(details_list, authors)"
      ],
      "execution_count": 100,
      "outputs": [
        {
          "output_type": "stream",
          "text": [
            "Summary:\n",
            "\n",
            "The dollar plunged sharply in 2007 after the meltdown of the subprime mortgage\n",
            "market. But the deepening of the crisis following the bankruptcy of Lehman\n",
            "Brothers in September 2008 saw the dollar gain ground. Bretton Woods\n",
            "negotiations at the end of the Second World War paved the way for establishing\n",
            "the dominance of the dollar as international money. The implosion of the\n",
            "financial system has threatened the foundation of dollar hegemony. \n",
            "\n",
            "The privileged role of the dollar provided the U.S. with an international line\n",
            "of credit. Cheap imports allowed consumption to be sustained despite stagnant or\n",
            "declining real wages. The export-led economies of Asia depended on mass\n",
            "consumption in the United States to drive their economies. But the dependence on\n",
            "cheap imports precipitated growing trade deficits. Capital flight from the\n",
            "emerging markets has precipitated a fall in some emerging market currencies. \n",
            "\n"
          ],
          "name": "stdout"
        }
      ]
    },
    {
      "cell_type": "code",
      "metadata": {
        "id": "T-0G9cISVS6B"
      },
      "source": [
        ""
      ],
      "execution_count": 100,
      "outputs": []
    }
  ]
}