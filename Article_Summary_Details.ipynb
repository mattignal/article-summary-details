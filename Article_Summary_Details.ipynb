{
  "nbformat": 4,
  "nbformat_minor": 0,
  "metadata": {
    "colab": {
      "name": "Article_Summary_Details.ipynb",
      "provenance": [],
      "collapsed_sections": [],
      "authorship_tag": "ABX9TyPCxIxB94gWew0EoI6sCQCT",
      "include_colab_link": true
    },
    "kernelspec": {
      "name": "python3",
      "display_name": "Python 3"
    },
    "language_info": {
      "name": "python"
    },
    "widgets": {
      "application/vnd.jupyter.widget-state+json": {
        "7d417e253e43432cb9f54140bec490d9": {
          "model_module": "@jupyter-widgets/controls",
          "model_name": "HBoxModel",
          "state": {
            "_view_name": "HBoxView",
            "_dom_classes": [],
            "_model_name": "HBoxModel",
            "_view_module": "@jupyter-widgets/controls",
            "_model_module_version": "1.5.0",
            "_view_count": null,
            "_view_module_version": "1.5.0",
            "box_style": "",
            "layout": "IPY_MODEL_0940a127be41498da873205ea9f4a993",
            "_model_module": "@jupyter-widgets/controls",
            "children": [
              "IPY_MODEL_746e5f1bd7614469acbce80d75717773",
              "IPY_MODEL_b48a9064011d45c3adebb6d60ed819a9"
            ]
          }
        },
        "0940a127be41498da873205ea9f4a993": {
          "model_module": "@jupyter-widgets/base",
          "model_name": "LayoutModel",
          "state": {
            "_view_name": "LayoutView",
            "grid_template_rows": null,
            "right": null,
            "justify_content": null,
            "_view_module": "@jupyter-widgets/base",
            "overflow": null,
            "_model_module_version": "1.2.0",
            "_view_count": null,
            "flex_flow": null,
            "width": null,
            "min_width": null,
            "border": null,
            "align_items": null,
            "bottom": null,
            "_model_module": "@jupyter-widgets/base",
            "top": null,
            "grid_column": null,
            "overflow_y": null,
            "overflow_x": null,
            "grid_auto_flow": null,
            "grid_area": null,
            "grid_template_columns": null,
            "flex": null,
            "_model_name": "LayoutModel",
            "justify_items": null,
            "grid_row": null,
            "max_height": null,
            "align_content": null,
            "visibility": null,
            "align_self": null,
            "height": null,
            "min_height": null,
            "padding": null,
            "grid_auto_rows": null,
            "grid_gap": null,
            "max_width": null,
            "order": null,
            "_view_module_version": "1.2.0",
            "grid_template_areas": null,
            "object_position": null,
            "object_fit": null,
            "grid_auto_columns": null,
            "margin": null,
            "display": null,
            "left": null
          }
        },
        "746e5f1bd7614469acbce80d75717773": {
          "model_module": "@jupyter-widgets/controls",
          "model_name": "FloatProgressModel",
          "state": {
            "_view_name": "ProgressView",
            "style": "IPY_MODEL_b461918f3b95493b938467d3ec0a27ef",
            "_dom_classes": [],
            "description": "Downloading: 100%",
            "_model_name": "FloatProgressModel",
            "bar_style": "success",
            "max": 1399,
            "_view_module": "@jupyter-widgets/controls",
            "_model_module_version": "1.5.0",
            "value": 1399,
            "_view_count": null,
            "_view_module_version": "1.5.0",
            "orientation": "horizontal",
            "min": 0,
            "description_tooltip": null,
            "_model_module": "@jupyter-widgets/controls",
            "layout": "IPY_MODEL_0c9aa7a3ca2440d8bfc4a4787c124ff8"
          }
        },
        "b48a9064011d45c3adebb6d60ed819a9": {
          "model_module": "@jupyter-widgets/controls",
          "model_name": "HTMLModel",
          "state": {
            "_view_name": "HTMLView",
            "style": "IPY_MODEL_f994b2cf58e74b95b3c9a2b36e3c0da8",
            "_dom_classes": [],
            "description": "",
            "_model_name": "HTMLModel",
            "placeholder": "​",
            "_view_module": "@jupyter-widgets/controls",
            "_model_module_version": "1.5.0",
            "value": " 1.40k/1.40k [00:42&lt;00:00, 32.9B/s]",
            "_view_count": null,
            "_view_module_version": "1.5.0",
            "description_tooltip": null,
            "_model_module": "@jupyter-widgets/controls",
            "layout": "IPY_MODEL_901b9fbf42c44ed09312cc6c95fe1a6b"
          }
        },
        "b461918f3b95493b938467d3ec0a27ef": {
          "model_module": "@jupyter-widgets/controls",
          "model_name": "ProgressStyleModel",
          "state": {
            "_view_name": "StyleView",
            "_model_name": "ProgressStyleModel",
            "description_width": "initial",
            "_view_module": "@jupyter-widgets/base",
            "_model_module_version": "1.5.0",
            "_view_count": null,
            "_view_module_version": "1.2.0",
            "bar_color": null,
            "_model_module": "@jupyter-widgets/controls"
          }
        },
        "0c9aa7a3ca2440d8bfc4a4787c124ff8": {
          "model_module": "@jupyter-widgets/base",
          "model_name": "LayoutModel",
          "state": {
            "_view_name": "LayoutView",
            "grid_template_rows": null,
            "right": null,
            "justify_content": null,
            "_view_module": "@jupyter-widgets/base",
            "overflow": null,
            "_model_module_version": "1.2.0",
            "_view_count": null,
            "flex_flow": null,
            "width": null,
            "min_width": null,
            "border": null,
            "align_items": null,
            "bottom": null,
            "_model_module": "@jupyter-widgets/base",
            "top": null,
            "grid_column": null,
            "overflow_y": null,
            "overflow_x": null,
            "grid_auto_flow": null,
            "grid_area": null,
            "grid_template_columns": null,
            "flex": null,
            "_model_name": "LayoutModel",
            "justify_items": null,
            "grid_row": null,
            "max_height": null,
            "align_content": null,
            "visibility": null,
            "align_self": null,
            "height": null,
            "min_height": null,
            "padding": null,
            "grid_auto_rows": null,
            "grid_gap": null,
            "max_width": null,
            "order": null,
            "_view_module_version": "1.2.0",
            "grid_template_areas": null,
            "object_position": null,
            "object_fit": null,
            "grid_auto_columns": null,
            "margin": null,
            "display": null,
            "left": null
          }
        },
        "f994b2cf58e74b95b3c9a2b36e3c0da8": {
          "model_module": "@jupyter-widgets/controls",
          "model_name": "DescriptionStyleModel",
          "state": {
            "_view_name": "StyleView",
            "_model_name": "DescriptionStyleModel",
            "description_width": "",
            "_view_module": "@jupyter-widgets/base",
            "_model_module_version": "1.5.0",
            "_view_count": null,
            "_view_module_version": "1.2.0",
            "_model_module": "@jupyter-widgets/controls"
          }
        },
        "901b9fbf42c44ed09312cc6c95fe1a6b": {
          "model_module": "@jupyter-widgets/base",
          "model_name": "LayoutModel",
          "state": {
            "_view_name": "LayoutView",
            "grid_template_rows": null,
            "right": null,
            "justify_content": null,
            "_view_module": "@jupyter-widgets/base",
            "overflow": null,
            "_model_module_version": "1.2.0",
            "_view_count": null,
            "flex_flow": null,
            "width": null,
            "min_width": null,
            "border": null,
            "align_items": null,
            "bottom": null,
            "_model_module": "@jupyter-widgets/base",
            "top": null,
            "grid_column": null,
            "overflow_y": null,
            "overflow_x": null,
            "grid_auto_flow": null,
            "grid_area": null,
            "grid_template_columns": null,
            "flex": null,
            "_model_name": "LayoutModel",
            "justify_items": null,
            "grid_row": null,
            "max_height": null,
            "align_content": null,
            "visibility": null,
            "align_self": null,
            "height": null,
            "min_height": null,
            "padding": null,
            "grid_auto_rows": null,
            "grid_gap": null,
            "max_width": null,
            "order": null,
            "_view_module_version": "1.2.0",
            "grid_template_areas": null,
            "object_position": null,
            "object_fit": null,
            "grid_auto_columns": null,
            "margin": null,
            "display": null,
            "left": null
          }
        },
        "f1224f9f9cf44b2e9a41ffc331b4e39f": {
          "model_module": "@jupyter-widgets/controls",
          "model_name": "HBoxModel",
          "state": {
            "_view_name": "HBoxView",
            "_dom_classes": [],
            "_model_name": "HBoxModel",
            "_view_module": "@jupyter-widgets/controls",
            "_model_module_version": "1.5.0",
            "_view_count": null,
            "_view_module_version": "1.5.0",
            "box_style": "",
            "layout": "IPY_MODEL_c95fcf2effcb4d34a1c7a9d11f5e4ec5",
            "_model_module": "@jupyter-widgets/controls",
            "children": [
              "IPY_MODEL_8fd37b0c9490405d99c0a8d254963e00",
              "IPY_MODEL_17474f9df83546a6ba966ba9e81397f4"
            ]
          }
        },
        "c95fcf2effcb4d34a1c7a9d11f5e4ec5": {
          "model_module": "@jupyter-widgets/base",
          "model_name": "LayoutModel",
          "state": {
            "_view_name": "LayoutView",
            "grid_template_rows": null,
            "right": null,
            "justify_content": null,
            "_view_module": "@jupyter-widgets/base",
            "overflow": null,
            "_model_module_version": "1.2.0",
            "_view_count": null,
            "flex_flow": null,
            "width": null,
            "min_width": null,
            "border": null,
            "align_items": null,
            "bottom": null,
            "_model_module": "@jupyter-widgets/base",
            "top": null,
            "grid_column": null,
            "overflow_y": null,
            "overflow_x": null,
            "grid_auto_flow": null,
            "grid_area": null,
            "grid_template_columns": null,
            "flex": null,
            "_model_name": "LayoutModel",
            "justify_items": null,
            "grid_row": null,
            "max_height": null,
            "align_content": null,
            "visibility": null,
            "align_self": null,
            "height": null,
            "min_height": null,
            "padding": null,
            "grid_auto_rows": null,
            "grid_gap": null,
            "max_width": null,
            "order": null,
            "_view_module_version": "1.2.0",
            "grid_template_areas": null,
            "object_position": null,
            "object_fit": null,
            "grid_auto_columns": null,
            "margin": null,
            "display": null,
            "left": null
          }
        },
        "8fd37b0c9490405d99c0a8d254963e00": {
          "model_module": "@jupyter-widgets/controls",
          "model_name": "FloatProgressModel",
          "state": {
            "_view_name": "ProgressView",
            "style": "IPY_MODEL_9d089aeac54a4ddb8554fd21c100e54b",
            "_dom_classes": [],
            "description": "Downloading: 100%",
            "_model_name": "FloatProgressModel",
            "bar_style": "success",
            "max": 1625270765,
            "_view_module": "@jupyter-widgets/controls",
            "_model_module_version": "1.5.0",
            "value": 1625270765,
            "_view_count": null,
            "_view_module_version": "1.5.0",
            "orientation": "horizontal",
            "min": 0,
            "description_tooltip": null,
            "_model_module": "@jupyter-widgets/controls",
            "layout": "IPY_MODEL_d7979e651cbc4c099a111251941e113d"
          }
        },
        "17474f9df83546a6ba966ba9e81397f4": {
          "model_module": "@jupyter-widgets/controls",
          "model_name": "HTMLModel",
          "state": {
            "_view_name": "HTMLView",
            "style": "IPY_MODEL_db0217dab3e242ac99c4c133f4b6484f",
            "_dom_classes": [],
            "description": "",
            "_model_name": "HTMLModel",
            "placeholder": "​",
            "_view_module": "@jupyter-widgets/controls",
            "_model_module_version": "1.5.0",
            "value": " 1.63G/1.63G [00:42&lt;00:00, 38.6MB/s]",
            "_view_count": null,
            "_view_module_version": "1.5.0",
            "description_tooltip": null,
            "_model_module": "@jupyter-widgets/controls",
            "layout": "IPY_MODEL_f9a8c44ebef4434f8ba6afbdf805a1f2"
          }
        },
        "9d089aeac54a4ddb8554fd21c100e54b": {
          "model_module": "@jupyter-widgets/controls",
          "model_name": "ProgressStyleModel",
          "state": {
            "_view_name": "StyleView",
            "_model_name": "ProgressStyleModel",
            "description_width": "initial",
            "_view_module": "@jupyter-widgets/base",
            "_model_module_version": "1.5.0",
            "_view_count": null,
            "_view_module_version": "1.2.0",
            "bar_color": null,
            "_model_module": "@jupyter-widgets/controls"
          }
        },
        "d7979e651cbc4c099a111251941e113d": {
          "model_module": "@jupyter-widgets/base",
          "model_name": "LayoutModel",
          "state": {
            "_view_name": "LayoutView",
            "grid_template_rows": null,
            "right": null,
            "justify_content": null,
            "_view_module": "@jupyter-widgets/base",
            "overflow": null,
            "_model_module_version": "1.2.0",
            "_view_count": null,
            "flex_flow": null,
            "width": null,
            "min_width": null,
            "border": null,
            "align_items": null,
            "bottom": null,
            "_model_module": "@jupyter-widgets/base",
            "top": null,
            "grid_column": null,
            "overflow_y": null,
            "overflow_x": null,
            "grid_auto_flow": null,
            "grid_area": null,
            "grid_template_columns": null,
            "flex": null,
            "_model_name": "LayoutModel",
            "justify_items": null,
            "grid_row": null,
            "max_height": null,
            "align_content": null,
            "visibility": null,
            "align_self": null,
            "height": null,
            "min_height": null,
            "padding": null,
            "grid_auto_rows": null,
            "grid_gap": null,
            "max_width": null,
            "order": null,
            "_view_module_version": "1.2.0",
            "grid_template_areas": null,
            "object_position": null,
            "object_fit": null,
            "grid_auto_columns": null,
            "margin": null,
            "display": null,
            "left": null
          }
        },
        "db0217dab3e242ac99c4c133f4b6484f": {
          "model_module": "@jupyter-widgets/controls",
          "model_name": "DescriptionStyleModel",
          "state": {
            "_view_name": "StyleView",
            "_model_name": "DescriptionStyleModel",
            "description_width": "",
            "_view_module": "@jupyter-widgets/base",
            "_model_module_version": "1.5.0",
            "_view_count": null,
            "_view_module_version": "1.2.0",
            "_model_module": "@jupyter-widgets/controls"
          }
        },
        "f9a8c44ebef4434f8ba6afbdf805a1f2": {
          "model_module": "@jupyter-widgets/base",
          "model_name": "LayoutModel",
          "state": {
            "_view_name": "LayoutView",
            "grid_template_rows": null,
            "right": null,
            "justify_content": null,
            "_view_module": "@jupyter-widgets/base",
            "overflow": null,
            "_model_module_version": "1.2.0",
            "_view_count": null,
            "flex_flow": null,
            "width": null,
            "min_width": null,
            "border": null,
            "align_items": null,
            "bottom": null,
            "_model_module": "@jupyter-widgets/base",
            "top": null,
            "grid_column": null,
            "overflow_y": null,
            "overflow_x": null,
            "grid_auto_flow": null,
            "grid_area": null,
            "grid_template_columns": null,
            "flex": null,
            "_model_name": "LayoutModel",
            "justify_items": null,
            "grid_row": null,
            "max_height": null,
            "align_content": null,
            "visibility": null,
            "align_self": null,
            "height": null,
            "min_height": null,
            "padding": null,
            "grid_auto_rows": null,
            "grid_gap": null,
            "max_width": null,
            "order": null,
            "_view_module_version": "1.2.0",
            "grid_template_areas": null,
            "object_position": null,
            "object_fit": null,
            "grid_auto_columns": null,
            "margin": null,
            "display": null,
            "left": null
          }
        },
        "a0d39932a3294eaaae14a70dc4d5b35b": {
          "model_module": "@jupyter-widgets/controls",
          "model_name": "HBoxModel",
          "state": {
            "_view_name": "HBoxView",
            "_dom_classes": [],
            "_model_name": "HBoxModel",
            "_view_module": "@jupyter-widgets/controls",
            "_model_module_version": "1.5.0",
            "_view_count": null,
            "_view_module_version": "1.5.0",
            "box_style": "",
            "layout": "IPY_MODEL_778c7b07242d403c974c550a2005d395",
            "_model_module": "@jupyter-widgets/controls",
            "children": [
              "IPY_MODEL_5eb483826275444ead5c345196ae8dba",
              "IPY_MODEL_7fe3b0f7c00c448a866a5ec1a2c63a08"
            ]
          }
        },
        "778c7b07242d403c974c550a2005d395": {
          "model_module": "@jupyter-widgets/base",
          "model_name": "LayoutModel",
          "state": {
            "_view_name": "LayoutView",
            "grid_template_rows": null,
            "right": null,
            "justify_content": null,
            "_view_module": "@jupyter-widgets/base",
            "overflow": null,
            "_model_module_version": "1.2.0",
            "_view_count": null,
            "flex_flow": null,
            "width": null,
            "min_width": null,
            "border": null,
            "align_items": null,
            "bottom": null,
            "_model_module": "@jupyter-widgets/base",
            "top": null,
            "grid_column": null,
            "overflow_y": null,
            "overflow_x": null,
            "grid_auto_flow": null,
            "grid_area": null,
            "grid_template_columns": null,
            "flex": null,
            "_model_name": "LayoutModel",
            "justify_items": null,
            "grid_row": null,
            "max_height": null,
            "align_content": null,
            "visibility": null,
            "align_self": null,
            "height": null,
            "min_height": null,
            "padding": null,
            "grid_auto_rows": null,
            "grid_gap": null,
            "max_width": null,
            "order": null,
            "_view_module_version": "1.2.0",
            "grid_template_areas": null,
            "object_position": null,
            "object_fit": null,
            "grid_auto_columns": null,
            "margin": null,
            "display": null,
            "left": null
          }
        },
        "5eb483826275444ead5c345196ae8dba": {
          "model_module": "@jupyter-widgets/controls",
          "model_name": "FloatProgressModel",
          "state": {
            "_view_name": "ProgressView",
            "style": "IPY_MODEL_a2f1595bc5d9484ca234fb04f52e83d6",
            "_dom_classes": [],
            "description": "Downloading: 100%",
            "_model_name": "FloatProgressModel",
            "bar_style": "success",
            "max": 898823,
            "_view_module": "@jupyter-widgets/controls",
            "_model_module_version": "1.5.0",
            "value": 898823,
            "_view_count": null,
            "_view_module_version": "1.5.0",
            "orientation": "horizontal",
            "min": 0,
            "description_tooltip": null,
            "_model_module": "@jupyter-widgets/controls",
            "layout": "IPY_MODEL_70c223f56f5a40ddbcc3eaced57e5561"
          }
        },
        "7fe3b0f7c00c448a866a5ec1a2c63a08": {
          "model_module": "@jupyter-widgets/controls",
          "model_name": "HTMLModel",
          "state": {
            "_view_name": "HTMLView",
            "style": "IPY_MODEL_035155035f2b41058c84d87cc14bea8b",
            "_dom_classes": [],
            "description": "",
            "_model_name": "HTMLModel",
            "placeholder": "​",
            "_view_module": "@jupyter-widgets/controls",
            "_model_module_version": "1.5.0",
            "value": " 899k/899k [00:02&lt;00:00, 319kB/s]",
            "_view_count": null,
            "_view_module_version": "1.5.0",
            "description_tooltip": null,
            "_model_module": "@jupyter-widgets/controls",
            "layout": "IPY_MODEL_78182a63f58f42ca85609168585f77cc"
          }
        },
        "a2f1595bc5d9484ca234fb04f52e83d6": {
          "model_module": "@jupyter-widgets/controls",
          "model_name": "ProgressStyleModel",
          "state": {
            "_view_name": "StyleView",
            "_model_name": "ProgressStyleModel",
            "description_width": "initial",
            "_view_module": "@jupyter-widgets/base",
            "_model_module_version": "1.5.0",
            "_view_count": null,
            "_view_module_version": "1.2.0",
            "bar_color": null,
            "_model_module": "@jupyter-widgets/controls"
          }
        },
        "70c223f56f5a40ddbcc3eaced57e5561": {
          "model_module": "@jupyter-widgets/base",
          "model_name": "LayoutModel",
          "state": {
            "_view_name": "LayoutView",
            "grid_template_rows": null,
            "right": null,
            "justify_content": null,
            "_view_module": "@jupyter-widgets/base",
            "overflow": null,
            "_model_module_version": "1.2.0",
            "_view_count": null,
            "flex_flow": null,
            "width": null,
            "min_width": null,
            "border": null,
            "align_items": null,
            "bottom": null,
            "_model_module": "@jupyter-widgets/base",
            "top": null,
            "grid_column": null,
            "overflow_y": null,
            "overflow_x": null,
            "grid_auto_flow": null,
            "grid_area": null,
            "grid_template_columns": null,
            "flex": null,
            "_model_name": "LayoutModel",
            "justify_items": null,
            "grid_row": null,
            "max_height": null,
            "align_content": null,
            "visibility": null,
            "align_self": null,
            "height": null,
            "min_height": null,
            "padding": null,
            "grid_auto_rows": null,
            "grid_gap": null,
            "max_width": null,
            "order": null,
            "_view_module_version": "1.2.0",
            "grid_template_areas": null,
            "object_position": null,
            "object_fit": null,
            "grid_auto_columns": null,
            "margin": null,
            "display": null,
            "left": null
          }
        },
        "035155035f2b41058c84d87cc14bea8b": {
          "model_module": "@jupyter-widgets/controls",
          "model_name": "DescriptionStyleModel",
          "state": {
            "_view_name": "StyleView",
            "_model_name": "DescriptionStyleModel",
            "description_width": "",
            "_view_module": "@jupyter-widgets/base",
            "_model_module_version": "1.5.0",
            "_view_count": null,
            "_view_module_version": "1.2.0",
            "_model_module": "@jupyter-widgets/controls"
          }
        },
        "78182a63f58f42ca85609168585f77cc": {
          "model_module": "@jupyter-widgets/base",
          "model_name": "LayoutModel",
          "state": {
            "_view_name": "LayoutView",
            "grid_template_rows": null,
            "right": null,
            "justify_content": null,
            "_view_module": "@jupyter-widgets/base",
            "overflow": null,
            "_model_module_version": "1.2.0",
            "_view_count": null,
            "flex_flow": null,
            "width": null,
            "min_width": null,
            "border": null,
            "align_items": null,
            "bottom": null,
            "_model_module": "@jupyter-widgets/base",
            "top": null,
            "grid_column": null,
            "overflow_y": null,
            "overflow_x": null,
            "grid_auto_flow": null,
            "grid_area": null,
            "grid_template_columns": null,
            "flex": null,
            "_model_name": "LayoutModel",
            "justify_items": null,
            "grid_row": null,
            "max_height": null,
            "align_content": null,
            "visibility": null,
            "align_self": null,
            "height": null,
            "min_height": null,
            "padding": null,
            "grid_auto_rows": null,
            "grid_gap": null,
            "max_width": null,
            "order": null,
            "_view_module_version": "1.2.0",
            "grid_template_areas": null,
            "object_position": null,
            "object_fit": null,
            "grid_auto_columns": null,
            "margin": null,
            "display": null,
            "left": null
          }
        },
        "1b10d0d1c0cb436e96da45762e2c357f": {
          "model_module": "@jupyter-widgets/controls",
          "model_name": "HBoxModel",
          "state": {
            "_view_name": "HBoxView",
            "_dom_classes": [],
            "_model_name": "HBoxModel",
            "_view_module": "@jupyter-widgets/controls",
            "_model_module_version": "1.5.0",
            "_view_count": null,
            "_view_module_version": "1.5.0",
            "box_style": "",
            "layout": "IPY_MODEL_bd278adb054f4168939a66b81609c074",
            "_model_module": "@jupyter-widgets/controls",
            "children": [
              "IPY_MODEL_35fc851c3d514d33a694f7ecb2ee2a4e",
              "IPY_MODEL_a1f619ad4d6b4a849093c179b8067978"
            ]
          }
        },
        "bd278adb054f4168939a66b81609c074": {
          "model_module": "@jupyter-widgets/base",
          "model_name": "LayoutModel",
          "state": {
            "_view_name": "LayoutView",
            "grid_template_rows": null,
            "right": null,
            "justify_content": null,
            "_view_module": "@jupyter-widgets/base",
            "overflow": null,
            "_model_module_version": "1.2.0",
            "_view_count": null,
            "flex_flow": null,
            "width": null,
            "min_width": null,
            "border": null,
            "align_items": null,
            "bottom": null,
            "_model_module": "@jupyter-widgets/base",
            "top": null,
            "grid_column": null,
            "overflow_y": null,
            "overflow_x": null,
            "grid_auto_flow": null,
            "grid_area": null,
            "grid_template_columns": null,
            "flex": null,
            "_model_name": "LayoutModel",
            "justify_items": null,
            "grid_row": null,
            "max_height": null,
            "align_content": null,
            "visibility": null,
            "align_self": null,
            "height": null,
            "min_height": null,
            "padding": null,
            "grid_auto_rows": null,
            "grid_gap": null,
            "max_width": null,
            "order": null,
            "_view_module_version": "1.2.0",
            "grid_template_areas": null,
            "object_position": null,
            "object_fit": null,
            "grid_auto_columns": null,
            "margin": null,
            "display": null,
            "left": null
          }
        },
        "35fc851c3d514d33a694f7ecb2ee2a4e": {
          "model_module": "@jupyter-widgets/controls",
          "model_name": "FloatProgressModel",
          "state": {
            "_view_name": "ProgressView",
            "style": "IPY_MODEL_78c4338fd8b74ca4a0a74b48f77f3f46",
            "_dom_classes": [],
            "description": "Downloading: 100%",
            "_model_name": "FloatProgressModel",
            "bar_style": "success",
            "max": 456318,
            "_view_module": "@jupyter-widgets/controls",
            "_model_module_version": "1.5.0",
            "value": 456318,
            "_view_count": null,
            "_view_module_version": "1.5.0",
            "orientation": "horizontal",
            "min": 0,
            "description_tooltip": null,
            "_model_module": "@jupyter-widgets/controls",
            "layout": "IPY_MODEL_32fc57d50fc24b7d9e14932ebddf46a6"
          }
        },
        "a1f619ad4d6b4a849093c179b8067978": {
          "model_module": "@jupyter-widgets/controls",
          "model_name": "HTMLModel",
          "state": {
            "_view_name": "HTMLView",
            "style": "IPY_MODEL_b5f7d5be92c54807a7a75de8739d88f6",
            "_dom_classes": [],
            "description": "",
            "_model_name": "HTMLModel",
            "placeholder": "​",
            "_view_module": "@jupyter-widgets/controls",
            "_model_module_version": "1.5.0",
            "value": " 456k/456k [00:01&lt;00:00, 261kB/s]",
            "_view_count": null,
            "_view_module_version": "1.5.0",
            "description_tooltip": null,
            "_model_module": "@jupyter-widgets/controls",
            "layout": "IPY_MODEL_4c71a9245ce14bf0a9580b7939eb123e"
          }
        },
        "78c4338fd8b74ca4a0a74b48f77f3f46": {
          "model_module": "@jupyter-widgets/controls",
          "model_name": "ProgressStyleModel",
          "state": {
            "_view_name": "StyleView",
            "_model_name": "ProgressStyleModel",
            "description_width": "initial",
            "_view_module": "@jupyter-widgets/base",
            "_model_module_version": "1.5.0",
            "_view_count": null,
            "_view_module_version": "1.2.0",
            "bar_color": null,
            "_model_module": "@jupyter-widgets/controls"
          }
        },
        "32fc57d50fc24b7d9e14932ebddf46a6": {
          "model_module": "@jupyter-widgets/base",
          "model_name": "LayoutModel",
          "state": {
            "_view_name": "LayoutView",
            "grid_template_rows": null,
            "right": null,
            "justify_content": null,
            "_view_module": "@jupyter-widgets/base",
            "overflow": null,
            "_model_module_version": "1.2.0",
            "_view_count": null,
            "flex_flow": null,
            "width": null,
            "min_width": null,
            "border": null,
            "align_items": null,
            "bottom": null,
            "_model_module": "@jupyter-widgets/base",
            "top": null,
            "grid_column": null,
            "overflow_y": null,
            "overflow_x": null,
            "grid_auto_flow": null,
            "grid_area": null,
            "grid_template_columns": null,
            "flex": null,
            "_model_name": "LayoutModel",
            "justify_items": null,
            "grid_row": null,
            "max_height": null,
            "align_content": null,
            "visibility": null,
            "align_self": null,
            "height": null,
            "min_height": null,
            "padding": null,
            "grid_auto_rows": null,
            "grid_gap": null,
            "max_width": null,
            "order": null,
            "_view_module_version": "1.2.0",
            "grid_template_areas": null,
            "object_position": null,
            "object_fit": null,
            "grid_auto_columns": null,
            "margin": null,
            "display": null,
            "left": null
          }
        },
        "b5f7d5be92c54807a7a75de8739d88f6": {
          "model_module": "@jupyter-widgets/controls",
          "model_name": "DescriptionStyleModel",
          "state": {
            "_view_name": "StyleView",
            "_model_name": "DescriptionStyleModel",
            "description_width": "",
            "_view_module": "@jupyter-widgets/base",
            "_model_module_version": "1.5.0",
            "_view_count": null,
            "_view_module_version": "1.2.0",
            "_model_module": "@jupyter-widgets/controls"
          }
        },
        "4c71a9245ce14bf0a9580b7939eb123e": {
          "model_module": "@jupyter-widgets/base",
          "model_name": "LayoutModel",
          "state": {
            "_view_name": "LayoutView",
            "grid_template_rows": null,
            "right": null,
            "justify_content": null,
            "_view_module": "@jupyter-widgets/base",
            "overflow": null,
            "_model_module_version": "1.2.0",
            "_view_count": null,
            "flex_flow": null,
            "width": null,
            "min_width": null,
            "border": null,
            "align_items": null,
            "bottom": null,
            "_model_module": "@jupyter-widgets/base",
            "top": null,
            "grid_column": null,
            "overflow_y": null,
            "overflow_x": null,
            "grid_auto_flow": null,
            "grid_area": null,
            "grid_template_columns": null,
            "flex": null,
            "_model_name": "LayoutModel",
            "justify_items": null,
            "grid_row": null,
            "max_height": null,
            "align_content": null,
            "visibility": null,
            "align_self": null,
            "height": null,
            "min_height": null,
            "padding": null,
            "grid_auto_rows": null,
            "grid_gap": null,
            "max_width": null,
            "order": null,
            "_view_module_version": "1.2.0",
            "grid_template_areas": null,
            "object_position": null,
            "object_fit": null,
            "grid_auto_columns": null,
            "margin": null,
            "display": null,
            "left": null
          }
        },
        "1b1dfd8b661d4fdd92451688f81b7c61": {
          "model_module": "@jupyter-widgets/controls",
          "model_name": "HBoxModel",
          "state": {
            "_view_name": "HBoxView",
            "_dom_classes": [],
            "_model_name": "HBoxModel",
            "_view_module": "@jupyter-widgets/controls",
            "_model_module_version": "1.5.0",
            "_view_count": null,
            "_view_module_version": "1.5.0",
            "box_style": "",
            "layout": "IPY_MODEL_aec44bc17b6b4bd8a11fbeda95b83f72",
            "_model_module": "@jupyter-widgets/controls",
            "children": [
              "IPY_MODEL_90919bbeba9f4818b09b72581ff7e165",
              "IPY_MODEL_72683726200644cea74bb75874c382b1"
            ]
          }
        },
        "aec44bc17b6b4bd8a11fbeda95b83f72": {
          "model_module": "@jupyter-widgets/base",
          "model_name": "LayoutModel",
          "state": {
            "_view_name": "LayoutView",
            "grid_template_rows": null,
            "right": null,
            "justify_content": null,
            "_view_module": "@jupyter-widgets/base",
            "overflow": null,
            "_model_module_version": "1.2.0",
            "_view_count": null,
            "flex_flow": null,
            "width": null,
            "min_width": null,
            "border": null,
            "align_items": null,
            "bottom": null,
            "_model_module": "@jupyter-widgets/base",
            "top": null,
            "grid_column": null,
            "overflow_y": null,
            "overflow_x": null,
            "grid_auto_flow": null,
            "grid_area": null,
            "grid_template_columns": null,
            "flex": null,
            "_model_name": "LayoutModel",
            "justify_items": null,
            "grid_row": null,
            "max_height": null,
            "align_content": null,
            "visibility": null,
            "align_self": null,
            "height": null,
            "min_height": null,
            "padding": null,
            "grid_auto_rows": null,
            "grid_gap": null,
            "max_width": null,
            "order": null,
            "_view_module_version": "1.2.0",
            "grid_template_areas": null,
            "object_position": null,
            "object_fit": null,
            "grid_auto_columns": null,
            "margin": null,
            "display": null,
            "left": null
          }
        },
        "90919bbeba9f4818b09b72581ff7e165": {
          "model_module": "@jupyter-widgets/controls",
          "model_name": "FloatProgressModel",
          "state": {
            "_view_name": "ProgressView",
            "style": "IPY_MODEL_72b7d9eb5574414e8a10ce114ebb0739",
            "_dom_classes": [],
            "description": "Downloading: 100%",
            "_model_name": "FloatProgressModel",
            "bar_style": "success",
            "max": 1355863,
            "_view_module": "@jupyter-widgets/controls",
            "_model_module_version": "1.5.0",
            "value": 1355863,
            "_view_count": null,
            "_view_module_version": "1.5.0",
            "orientation": "horizontal",
            "min": 0,
            "description_tooltip": null,
            "_model_module": "@jupyter-widgets/controls",
            "layout": "IPY_MODEL_96bb8255cb4043a6b605645c83cfc95a"
          }
        },
        "72683726200644cea74bb75874c382b1": {
          "model_module": "@jupyter-widgets/controls",
          "model_name": "HTMLModel",
          "state": {
            "_view_name": "HTMLView",
            "style": "IPY_MODEL_2475f477e641421c9dac75c1ffec2919",
            "_dom_classes": [],
            "description": "",
            "_model_name": "HTMLModel",
            "placeholder": "​",
            "_view_module": "@jupyter-widgets/controls",
            "_model_module_version": "1.5.0",
            "value": " 1.36M/1.36M [00:00&lt;00:00, 2.29MB/s]",
            "_view_count": null,
            "_view_module_version": "1.5.0",
            "description_tooltip": null,
            "_model_module": "@jupyter-widgets/controls",
            "layout": "IPY_MODEL_bc3b3887d38040b69ea734f196881d0d"
          }
        },
        "72b7d9eb5574414e8a10ce114ebb0739": {
          "model_module": "@jupyter-widgets/controls",
          "model_name": "ProgressStyleModel",
          "state": {
            "_view_name": "StyleView",
            "_model_name": "ProgressStyleModel",
            "description_width": "initial",
            "_view_module": "@jupyter-widgets/base",
            "_model_module_version": "1.5.0",
            "_view_count": null,
            "_view_module_version": "1.2.0",
            "bar_color": null,
            "_model_module": "@jupyter-widgets/controls"
          }
        },
        "96bb8255cb4043a6b605645c83cfc95a": {
          "model_module": "@jupyter-widgets/base",
          "model_name": "LayoutModel",
          "state": {
            "_view_name": "LayoutView",
            "grid_template_rows": null,
            "right": null,
            "justify_content": null,
            "_view_module": "@jupyter-widgets/base",
            "overflow": null,
            "_model_module_version": "1.2.0",
            "_view_count": null,
            "flex_flow": null,
            "width": null,
            "min_width": null,
            "border": null,
            "align_items": null,
            "bottom": null,
            "_model_module": "@jupyter-widgets/base",
            "top": null,
            "grid_column": null,
            "overflow_y": null,
            "overflow_x": null,
            "grid_auto_flow": null,
            "grid_area": null,
            "grid_template_columns": null,
            "flex": null,
            "_model_name": "LayoutModel",
            "justify_items": null,
            "grid_row": null,
            "max_height": null,
            "align_content": null,
            "visibility": null,
            "align_self": null,
            "height": null,
            "min_height": null,
            "padding": null,
            "grid_auto_rows": null,
            "grid_gap": null,
            "max_width": null,
            "order": null,
            "_view_module_version": "1.2.0",
            "grid_template_areas": null,
            "object_position": null,
            "object_fit": null,
            "grid_auto_columns": null,
            "margin": null,
            "display": null,
            "left": null
          }
        },
        "2475f477e641421c9dac75c1ffec2919": {
          "model_module": "@jupyter-widgets/controls",
          "model_name": "DescriptionStyleModel",
          "state": {
            "_view_name": "StyleView",
            "_model_name": "DescriptionStyleModel",
            "description_width": "",
            "_view_module": "@jupyter-widgets/base",
            "_model_module_version": "1.5.0",
            "_view_count": null,
            "_view_module_version": "1.2.0",
            "_model_module": "@jupyter-widgets/controls"
          }
        },
        "bc3b3887d38040b69ea734f196881d0d": {
          "model_module": "@jupyter-widgets/base",
          "model_name": "LayoutModel",
          "state": {
            "_view_name": "LayoutView",
            "grid_template_rows": null,
            "right": null,
            "justify_content": null,
            "_view_module": "@jupyter-widgets/base",
            "overflow": null,
            "_model_module_version": "1.2.0",
            "_view_count": null,
            "flex_flow": null,
            "width": null,
            "min_width": null,
            "border": null,
            "align_items": null,
            "bottom": null,
            "_model_module": "@jupyter-widgets/base",
            "top": null,
            "grid_column": null,
            "overflow_y": null,
            "overflow_x": null,
            "grid_auto_flow": null,
            "grid_area": null,
            "grid_template_columns": null,
            "flex": null,
            "_model_name": "LayoutModel",
            "justify_items": null,
            "grid_row": null,
            "max_height": null,
            "align_content": null,
            "visibility": null,
            "align_self": null,
            "height": null,
            "min_height": null,
            "padding": null,
            "grid_auto_rows": null,
            "grid_gap": null,
            "max_width": null,
            "order": null,
            "_view_module_version": "1.2.0",
            "grid_template_areas": null,
            "object_position": null,
            "object_fit": null,
            "grid_auto_columns": null,
            "margin": null,
            "display": null,
            "left": null
          }
        }
      }
    }
  },
  "cells": [
    {
      "cell_type": "markdown",
      "metadata": {
        "id": "view-in-github",
        "colab_type": "text"
      },
      "source": [
        "<a href=\"https://colab.research.google.com/github/mattignal/article-summary-details/blob/main/Article_Summary_Details.ipynb\" target=\"_parent\"><img src=\"https://colab.research.google.com/assets/colab-badge.svg\" alt=\"Open In Colab\"/></a>"
      ]
    },
    {
      "cell_type": "markdown",
      "metadata": {
        "id": "37QapQ0BgQFR"
      },
      "source": [
        "\n",
        "\n",
        "\n",
        "# Summarization Exercise with Two Articles\n",
        "\n",
        "Can we quickly produce useful abstracts and key details?\n",
        "\n"
      ]
    },
    {
      "cell_type": "code",
      "metadata": {
        "id": "9DTm7uMsLz8Z",
        "colab": {
          "base_uri": "https://localhost:8080/"
        },
        "outputId": "a27b03f9-5cc3-4269-9579-080d6913a2d0"
      },
      "source": [
        "# Requirements, uncomment to run\n",
        "\n",
        "!pip install newspaper3k\n",
        "!pip install transformers # > 2.2.0\n",
        "!pip install bert-extractive-summarizer\n",
        "!pip install spacy\n",
        "!pip install neuralcoref\n",
        "!python -m spacy download en_core_web_md\n",
        "!pip install sentencepiece"
      ],
      "execution_count": 1,
      "outputs": [
        {
          "output_type": "stream",
          "text": [
            "Collecting newspaper3k\n",
            "\u001b[?25l  Downloading https://files.pythonhosted.org/packages/d7/b9/51afecb35bb61b188a4b44868001de348a0e8134b4dfa00ffc191567c4b9/newspaper3k-0.2.8-py3-none-any.whl (211kB)\n",
            "\r\u001b[K     |█▌                              | 10kB 14.8MB/s eta 0:00:01\r\u001b[K     |███                             | 20kB 20.4MB/s eta 0:00:01\r\u001b[K     |████▋                           | 30kB 24.6MB/s eta 0:00:01\r\u001b[K     |██████▏                         | 40kB 17.6MB/s eta 0:00:01\r\u001b[K     |███████▊                        | 51kB 17.1MB/s eta 0:00:01\r\u001b[K     |█████████▎                      | 61kB 17.0MB/s eta 0:00:01\r\u001b[K     |██████████▉                     | 71kB 14.2MB/s eta 0:00:01\r\u001b[K     |████████████▍                   | 81kB 14.3MB/s eta 0:00:01\r\u001b[K     |██████████████                  | 92kB 12.9MB/s eta 0:00:01\r\u001b[K     |███████████████▌                | 102kB 12.1MB/s eta 0:00:01\r\u001b[K     |█████████████████               | 112kB 12.1MB/s eta 0:00:01\r\u001b[K     |██████████████████▋             | 122kB 12.1MB/s eta 0:00:01\r\u001b[K     |████████████████████▏           | 133kB 12.1MB/s eta 0:00:01\r\u001b[K     |█████████████████████▊          | 143kB 12.1MB/s eta 0:00:01\r\u001b[K     |███████████████████████▎        | 153kB 12.1MB/s eta 0:00:01\r\u001b[K     |████████████████████████▉       | 163kB 12.1MB/s eta 0:00:01\r\u001b[K     |██████████████████████████▍     | 174kB 12.1MB/s eta 0:00:01\r\u001b[K     |████████████████████████████    | 184kB 12.1MB/s eta 0:00:01\r\u001b[K     |█████████████████████████████▌  | 194kB 12.1MB/s eta 0:00:01\r\u001b[K     |███████████████████████████████ | 204kB 12.1MB/s eta 0:00:01\r\u001b[K     |████████████████████████████████| 215kB 12.1MB/s \n",
            "\u001b[?25hRequirement already satisfied: Pillow>=3.3.0 in /usr/local/lib/python3.7/dist-packages (from newspaper3k) (7.1.2)\n",
            "Collecting cssselect>=0.9.2\n",
            "  Downloading https://files.pythonhosted.org/packages/3b/d4/3b5c17f00cce85b9a1e6f91096e1cc8e8ede2e1be8e96b87ce1ed09e92c5/cssselect-1.1.0-py2.py3-none-any.whl\n",
            "Requirement already satisfied: requests>=2.10.0 in /usr/local/lib/python3.7/dist-packages (from newspaper3k) (2.23.0)\n",
            "Collecting feedfinder2>=0.0.4\n",
            "  Downloading https://files.pythonhosted.org/packages/35/82/1251fefec3bb4b03fd966c7e7f7a41c9fc2bb00d823a34c13f847fd61406/feedfinder2-0.0.4.tar.gz\n",
            "Collecting feedparser>=5.2.1\n",
            "\u001b[?25l  Downloading https://files.pythonhosted.org/packages/1c/21/faf1bac028662cc8adb2b5ef7a6f3999a765baa2835331df365289b0ca56/feedparser-6.0.2-py3-none-any.whl (80kB)\n",
            "\u001b[K     |████████████████████████████████| 81kB 6.7MB/s \n",
            "\u001b[?25hCollecting tldextract>=2.0.1\n",
            "\u001b[?25l  Downloading https://files.pythonhosted.org/packages/7e/62/b6acd3129c5615b9860e670df07fd55b76175b63e6b7f68282c7cad38e9e/tldextract-3.1.0-py2.py3-none-any.whl (87kB)\n",
            "\u001b[K     |████████████████████████████████| 92kB 5.6MB/s \n",
            "\u001b[?25hRequirement already satisfied: python-dateutil>=2.5.3 in /usr/local/lib/python3.7/dist-packages (from newspaper3k) (2.8.1)\n",
            "Requirement already satisfied: lxml>=3.6.0 in /usr/local/lib/python3.7/dist-packages (from newspaper3k) (4.2.6)\n",
            "Requirement already satisfied: beautifulsoup4>=4.4.1 in /usr/local/lib/python3.7/dist-packages (from newspaper3k) (4.6.3)\n",
            "Collecting tinysegmenter==0.3\n",
            "  Downloading https://files.pythonhosted.org/packages/17/82/86982e4b6d16e4febc79c2a1d68ee3b707e8a020c5d2bc4af8052d0f136a/tinysegmenter-0.3.tar.gz\n",
            "Collecting jieba3k>=0.35.1\n",
            "\u001b[?25l  Downloading https://files.pythonhosted.org/packages/a9/cb/2c8332bcdc14d33b0bedd18ae0a4981a069c3513e445120da3c3f23a8aaa/jieba3k-0.35.1.zip (7.4MB)\n",
            "\u001b[K     |████████████████████████████████| 7.4MB 10.2MB/s \n",
            "\u001b[?25hRequirement already satisfied: PyYAML>=3.11 in /usr/local/lib/python3.7/dist-packages (from newspaper3k) (3.13)\n",
            "Requirement already satisfied: nltk>=3.2.1 in /usr/local/lib/python3.7/dist-packages (from newspaper3k) (3.2.5)\n",
            "Requirement already satisfied: certifi>=2017.4.17 in /usr/local/lib/python3.7/dist-packages (from requests>=2.10.0->newspaper3k) (2020.12.5)\n",
            "Requirement already satisfied: chardet<4,>=3.0.2 in /usr/local/lib/python3.7/dist-packages (from requests>=2.10.0->newspaper3k) (3.0.4)\n",
            "Requirement already satisfied: idna<3,>=2.5 in /usr/local/lib/python3.7/dist-packages (from requests>=2.10.0->newspaper3k) (2.10)\n",
            "Requirement already satisfied: urllib3!=1.25.0,!=1.25.1,<1.26,>=1.21.1 in /usr/local/lib/python3.7/dist-packages (from requests>=2.10.0->newspaper3k) (1.24.3)\n",
            "Requirement already satisfied: six in /usr/local/lib/python3.7/dist-packages (from feedfinder2>=0.0.4->newspaper3k) (1.15.0)\n",
            "Collecting sgmllib3k\n",
            "  Downloading https://files.pythonhosted.org/packages/9e/bd/3704a8c3e0942d711c1299ebf7b9091930adae6675d7c8f476a7ce48653c/sgmllib3k-1.0.0.tar.gz\n",
            "Collecting requests-file>=1.4\n",
            "  Downloading https://files.pythonhosted.org/packages/77/86/cdb5e8eaed90796aa83a6d9f75cfbd37af553c47a291cd47bc410ef9bdb2/requests_file-1.5.1-py2.py3-none-any.whl\n",
            "Requirement already satisfied: filelock>=3.0.8 in /usr/local/lib/python3.7/dist-packages (from tldextract>=2.0.1->newspaper3k) (3.0.12)\n",
            "Building wheels for collected packages: feedfinder2, tinysegmenter, jieba3k, sgmllib3k\n",
            "  Building wheel for feedfinder2 (setup.py) ... \u001b[?25l\u001b[?25hdone\n",
            "  Created wheel for feedfinder2: filename=feedfinder2-0.0.4-cp37-none-any.whl size=3358 sha256=384328bc5e0e24aa4803b2bac0c5278936e3d88261239ea1dbcdac951e8b7724\n",
            "  Stored in directory: /root/.cache/pip/wheels/de/03/ca/778e3a7a627e3d98836cc890e7cb40c7575424cfd3340f40ed\n",
            "  Building wheel for tinysegmenter (setup.py) ... \u001b[?25l\u001b[?25hdone\n",
            "  Created wheel for tinysegmenter: filename=tinysegmenter-0.3-cp37-none-any.whl size=13538 sha256=4d4ebc379b3a376b9c0529f5dbda83c6964b48bb7d61ad0893950456f878c2ec\n",
            "  Stored in directory: /root/.cache/pip/wheels/81/2b/43/a02ede72324dd40cdd7ca53aad718c7710628e91b8b0dc0f02\n",
            "  Building wheel for jieba3k (setup.py) ... \u001b[?25l\u001b[?25hdone\n",
            "  Created wheel for jieba3k: filename=jieba3k-0.35.1-cp37-none-any.whl size=7398406 sha256=587fa48f5fdc6a6d798672cbcab464cb02f62354c4b17303f6ed7b3150e86814\n",
            "  Stored in directory: /root/.cache/pip/wheels/83/15/9c/a3f1f67e7f7181170ad37d32e503c35da20627c013f438ed34\n",
            "  Building wheel for sgmllib3k (setup.py) ... \u001b[?25l\u001b[?25hdone\n",
            "  Created wheel for sgmllib3k: filename=sgmllib3k-1.0.0-cp37-none-any.whl size=6067 sha256=2ddb48b0078451d0675bf0c5bf0c81f96edc508fa3ed2ccc0f128b7130b33562\n",
            "  Stored in directory: /root/.cache/pip/wheels/f1/80/5a/444ba08a550cdd241bd9baf8bae44be750efe370adb944506a\n",
            "Successfully built feedfinder2 tinysegmenter jieba3k sgmllib3k\n",
            "Installing collected packages: cssselect, feedfinder2, sgmllib3k, feedparser, requests-file, tldextract, tinysegmenter, jieba3k, newspaper3k\n",
            "Successfully installed cssselect-1.1.0 feedfinder2-0.0.4 feedparser-6.0.2 jieba3k-0.35.1 newspaper3k-0.2.8 requests-file-1.5.1 sgmllib3k-1.0.0 tinysegmenter-0.3 tldextract-3.1.0\n",
            "Collecting transformers\n",
            "\u001b[?25l  Downloading https://files.pythonhosted.org/packages/81/91/61d69d58a1af1bd81d9ca9d62c90a6de3ab80d77f27c5df65d9a2c1f5626/transformers-4.5.0-py3-none-any.whl (2.1MB)\n",
            "\u001b[K     |████████████████████████████████| 2.2MB 9.6MB/s \n",
            "\u001b[?25hRequirement already satisfied: filelock in /usr/local/lib/python3.7/dist-packages (from transformers) (3.0.12)\n",
            "Collecting tokenizers<0.11,>=0.10.1\n",
            "\u001b[?25l  Downloading https://files.pythonhosted.org/packages/ae/04/5b870f26a858552025a62f1649c20d29d2672c02ff3c3fb4c688ca46467a/tokenizers-0.10.2-cp37-cp37m-manylinux2010_x86_64.whl (3.3MB)\n",
            "\u001b[K     |████████████████████████████████| 3.3MB 42.5MB/s \n",
            "\u001b[?25hRequirement already satisfied: numpy>=1.17 in /usr/local/lib/python3.7/dist-packages (from transformers) (1.19.5)\n",
            "Requirement already satisfied: requests in /usr/local/lib/python3.7/dist-packages (from transformers) (2.23.0)\n",
            "Collecting sacremoses\n",
            "\u001b[?25l  Downloading https://files.pythonhosted.org/packages/08/cd/342e584ee544d044fb573ae697404ce22ede086c9e87ce5960772084cad0/sacremoses-0.0.44.tar.gz (862kB)\n",
            "\u001b[K     |████████████████████████████████| 870kB 42.7MB/s \n",
            "\u001b[?25hRequirement already satisfied: tqdm>=4.27 in /usr/local/lib/python3.7/dist-packages (from transformers) (4.41.1)\n",
            "Requirement already satisfied: regex!=2019.12.17 in /usr/local/lib/python3.7/dist-packages (from transformers) (2019.12.20)\n",
            "Requirement already satisfied: importlib-metadata; python_version < \"3.8\" in /usr/local/lib/python3.7/dist-packages (from transformers) (3.8.1)\n",
            "Requirement already satisfied: packaging in /usr/local/lib/python3.7/dist-packages (from transformers) (20.9)\n",
            "Requirement already satisfied: certifi>=2017.4.17 in /usr/local/lib/python3.7/dist-packages (from requests->transformers) (2020.12.5)\n",
            "Requirement already satisfied: idna<3,>=2.5 in /usr/local/lib/python3.7/dist-packages (from requests->transformers) (2.10)\n",
            "Requirement already satisfied: chardet<4,>=3.0.2 in /usr/local/lib/python3.7/dist-packages (from requests->transformers) (3.0.4)\n",
            "Requirement already satisfied: urllib3!=1.25.0,!=1.25.1,<1.26,>=1.21.1 in /usr/local/lib/python3.7/dist-packages (from requests->transformers) (1.24.3)\n",
            "Requirement already satisfied: six in /usr/local/lib/python3.7/dist-packages (from sacremoses->transformers) (1.15.0)\n",
            "Requirement already satisfied: click in /usr/local/lib/python3.7/dist-packages (from sacremoses->transformers) (7.1.2)\n",
            "Requirement already satisfied: joblib in /usr/local/lib/python3.7/dist-packages (from sacremoses->transformers) (1.0.1)\n",
            "Requirement already satisfied: zipp>=0.5 in /usr/local/lib/python3.7/dist-packages (from importlib-metadata; python_version < \"3.8\"->transformers) (3.4.1)\n",
            "Requirement already satisfied: typing-extensions>=3.6.4; python_version < \"3.8\" in /usr/local/lib/python3.7/dist-packages (from importlib-metadata; python_version < \"3.8\"->transformers) (3.7.4.3)\n",
            "Requirement already satisfied: pyparsing>=2.0.2 in /usr/local/lib/python3.7/dist-packages (from packaging->transformers) (2.4.7)\n",
            "Building wheels for collected packages: sacremoses\n",
            "  Building wheel for sacremoses (setup.py) ... \u001b[?25l\u001b[?25hdone\n",
            "  Created wheel for sacremoses: filename=sacremoses-0.0.44-cp37-none-any.whl size=886084 sha256=4bdc85ba93524eda34321414b6480f8358e84cb73090624383838469ed3a0212\n",
            "  Stored in directory: /root/.cache/pip/wheels/3e/fb/c0/13ab4d63d537658f448366744654323077c4d90069b6512f3c\n",
            "Successfully built sacremoses\n",
            "Installing collected packages: tokenizers, sacremoses, transformers\n",
            "Successfully installed sacremoses-0.0.44 tokenizers-0.10.2 transformers-4.5.0\n",
            "Collecting bert-extractive-summarizer\n",
            "  Downloading https://files.pythonhosted.org/packages/1a/07/fdb05f9e18b6f641499ef56737126fbd2fafe1cdc1a04ba069d5aa205901/bert_extractive_summarizer-0.7.1-py3-none-any.whl\n",
            "Requirement already satisfied: spacy in /usr/local/lib/python3.7/dist-packages (from bert-extractive-summarizer) (2.2.4)\n",
            "Requirement already satisfied: transformers in /usr/local/lib/python3.7/dist-packages (from bert-extractive-summarizer) (4.5.0)\n",
            "Requirement already satisfied: scikit-learn in /usr/local/lib/python3.7/dist-packages (from bert-extractive-summarizer) (0.22.2.post1)\n",
            "Requirement already satisfied: tqdm<5.0.0,>=4.38.0 in /usr/local/lib/python3.7/dist-packages (from spacy->bert-extractive-summarizer) (4.41.1)\n",
            "Requirement already satisfied: preshed<3.1.0,>=3.0.2 in /usr/local/lib/python3.7/dist-packages (from spacy->bert-extractive-summarizer) (3.0.5)\n",
            "Requirement already satisfied: setuptools in /usr/local/lib/python3.7/dist-packages (from spacy->bert-extractive-summarizer) (54.2.0)\n",
            "Requirement already satisfied: cymem<2.1.0,>=2.0.2 in /usr/local/lib/python3.7/dist-packages (from spacy->bert-extractive-summarizer) (2.0.5)\n",
            "Requirement already satisfied: plac<1.2.0,>=0.9.6 in /usr/local/lib/python3.7/dist-packages (from spacy->bert-extractive-summarizer) (1.1.3)\n",
            "Requirement already satisfied: thinc==7.4.0 in /usr/local/lib/python3.7/dist-packages (from spacy->bert-extractive-summarizer) (7.4.0)\n",
            "Requirement already satisfied: requests<3.0.0,>=2.13.0 in /usr/local/lib/python3.7/dist-packages (from spacy->bert-extractive-summarizer) (2.23.0)\n",
            "Requirement already satisfied: wasabi<1.1.0,>=0.4.0 in /usr/local/lib/python3.7/dist-packages (from spacy->bert-extractive-summarizer) (0.8.2)\n",
            "Requirement already satisfied: numpy>=1.15.0 in /usr/local/lib/python3.7/dist-packages (from spacy->bert-extractive-summarizer) (1.19.5)\n",
            "Requirement already satisfied: murmurhash<1.1.0,>=0.28.0 in /usr/local/lib/python3.7/dist-packages (from spacy->bert-extractive-summarizer) (1.0.5)\n",
            "Requirement already satisfied: blis<0.5.0,>=0.4.0 in /usr/local/lib/python3.7/dist-packages (from spacy->bert-extractive-summarizer) (0.4.1)\n",
            "Requirement already satisfied: catalogue<1.1.0,>=0.0.7 in /usr/local/lib/python3.7/dist-packages (from spacy->bert-extractive-summarizer) (1.0.0)\n",
            "Requirement already satisfied: srsly<1.1.0,>=1.0.2 in /usr/local/lib/python3.7/dist-packages (from spacy->bert-extractive-summarizer) (1.0.5)\n",
            "Requirement already satisfied: sacremoses in /usr/local/lib/python3.7/dist-packages (from transformers->bert-extractive-summarizer) (0.0.44)\n",
            "Requirement already satisfied: filelock in /usr/local/lib/python3.7/dist-packages (from transformers->bert-extractive-summarizer) (3.0.12)\n",
            "Requirement already satisfied: regex!=2019.12.17 in /usr/local/lib/python3.7/dist-packages (from transformers->bert-extractive-summarizer) (2019.12.20)\n",
            "Requirement already satisfied: tokenizers<0.11,>=0.10.1 in /usr/local/lib/python3.7/dist-packages (from transformers->bert-extractive-summarizer) (0.10.2)\n",
            "Requirement already satisfied: importlib-metadata; python_version < \"3.8\" in /usr/local/lib/python3.7/dist-packages (from transformers->bert-extractive-summarizer) (3.8.1)\n",
            "Requirement already satisfied: packaging in /usr/local/lib/python3.7/dist-packages (from transformers->bert-extractive-summarizer) (20.9)\n",
            "Requirement already satisfied: joblib>=0.11 in /usr/local/lib/python3.7/dist-packages (from scikit-learn->bert-extractive-summarizer) (1.0.1)\n",
            "Requirement already satisfied: scipy>=0.17.0 in /usr/local/lib/python3.7/dist-packages (from scikit-learn->bert-extractive-summarizer) (1.4.1)\n",
            "Requirement already satisfied: idna<3,>=2.5 in /usr/local/lib/python3.7/dist-packages (from requests<3.0.0,>=2.13.0->spacy->bert-extractive-summarizer) (2.10)\n",
            "Requirement already satisfied: certifi>=2017.4.17 in /usr/local/lib/python3.7/dist-packages (from requests<3.0.0,>=2.13.0->spacy->bert-extractive-summarizer) (2020.12.5)\n",
            "Requirement already satisfied: chardet<4,>=3.0.2 in /usr/local/lib/python3.7/dist-packages (from requests<3.0.0,>=2.13.0->spacy->bert-extractive-summarizer) (3.0.4)\n",
            "Requirement already satisfied: urllib3!=1.25.0,!=1.25.1,<1.26,>=1.21.1 in /usr/local/lib/python3.7/dist-packages (from requests<3.0.0,>=2.13.0->spacy->bert-extractive-summarizer) (1.24.3)\n",
            "Requirement already satisfied: six in /usr/local/lib/python3.7/dist-packages (from sacremoses->transformers->bert-extractive-summarizer) (1.15.0)\n",
            "Requirement already satisfied: click in /usr/local/lib/python3.7/dist-packages (from sacremoses->transformers->bert-extractive-summarizer) (7.1.2)\n",
            "Requirement already satisfied: zipp>=0.5 in /usr/local/lib/python3.7/dist-packages (from importlib-metadata; python_version < \"3.8\"->transformers->bert-extractive-summarizer) (3.4.1)\n",
            "Requirement already satisfied: typing-extensions>=3.6.4; python_version < \"3.8\" in /usr/local/lib/python3.7/dist-packages (from importlib-metadata; python_version < \"3.8\"->transformers->bert-extractive-summarizer) (3.7.4.3)\n",
            "Requirement already satisfied: pyparsing>=2.0.2 in /usr/local/lib/python3.7/dist-packages (from packaging->transformers->bert-extractive-summarizer) (2.4.7)\n",
            "Installing collected packages: bert-extractive-summarizer\n",
            "Successfully installed bert-extractive-summarizer-0.7.1\n",
            "Requirement already satisfied: spacy in /usr/local/lib/python3.7/dist-packages (2.2.4)\n",
            "Requirement already satisfied: preshed<3.1.0,>=3.0.2 in /usr/local/lib/python3.7/dist-packages (from spacy) (3.0.5)\n",
            "Requirement already satisfied: thinc==7.4.0 in /usr/local/lib/python3.7/dist-packages (from spacy) (7.4.0)\n",
            "Requirement already satisfied: tqdm<5.0.0,>=4.38.0 in /usr/local/lib/python3.7/dist-packages (from spacy) (4.41.1)\n",
            "Requirement already satisfied: catalogue<1.1.0,>=0.0.7 in /usr/local/lib/python3.7/dist-packages (from spacy) (1.0.0)\n",
            "Requirement already satisfied: numpy>=1.15.0 in /usr/local/lib/python3.7/dist-packages (from spacy) (1.19.5)\n",
            "Requirement already satisfied: cymem<2.1.0,>=2.0.2 in /usr/local/lib/python3.7/dist-packages (from spacy) (2.0.5)\n",
            "Requirement already satisfied: requests<3.0.0,>=2.13.0 in /usr/local/lib/python3.7/dist-packages (from spacy) (2.23.0)\n",
            "Requirement already satisfied: murmurhash<1.1.0,>=0.28.0 in /usr/local/lib/python3.7/dist-packages (from spacy) (1.0.5)\n",
            "Requirement already satisfied: setuptools in /usr/local/lib/python3.7/dist-packages (from spacy) (54.2.0)\n",
            "Requirement already satisfied: srsly<1.1.0,>=1.0.2 in /usr/local/lib/python3.7/dist-packages (from spacy) (1.0.5)\n",
            "Requirement already satisfied: blis<0.5.0,>=0.4.0 in /usr/local/lib/python3.7/dist-packages (from spacy) (0.4.1)\n",
            "Requirement already satisfied: wasabi<1.1.0,>=0.4.0 in /usr/local/lib/python3.7/dist-packages (from spacy) (0.8.2)\n",
            "Requirement already satisfied: plac<1.2.0,>=0.9.6 in /usr/local/lib/python3.7/dist-packages (from spacy) (1.1.3)\n",
            "Requirement already satisfied: importlib-metadata>=0.20; python_version < \"3.8\" in /usr/local/lib/python3.7/dist-packages (from catalogue<1.1.0,>=0.0.7->spacy) (3.8.1)\n",
            "Requirement already satisfied: certifi>=2017.4.17 in /usr/local/lib/python3.7/dist-packages (from requests<3.0.0,>=2.13.0->spacy) (2020.12.5)\n",
            "Requirement already satisfied: idna<3,>=2.5 in /usr/local/lib/python3.7/dist-packages (from requests<3.0.0,>=2.13.0->spacy) (2.10)\n",
            "Requirement already satisfied: chardet<4,>=3.0.2 in /usr/local/lib/python3.7/dist-packages (from requests<3.0.0,>=2.13.0->spacy) (3.0.4)\n",
            "Requirement already satisfied: urllib3!=1.25.0,!=1.25.1,<1.26,>=1.21.1 in /usr/local/lib/python3.7/dist-packages (from requests<3.0.0,>=2.13.0->spacy) (1.24.3)\n",
            "Requirement already satisfied: zipp>=0.5 in /usr/local/lib/python3.7/dist-packages (from importlib-metadata>=0.20; python_version < \"3.8\"->catalogue<1.1.0,>=0.0.7->spacy) (3.4.1)\n",
            "Requirement already satisfied: typing-extensions>=3.6.4; python_version < \"3.8\" in /usr/local/lib/python3.7/dist-packages (from importlib-metadata>=0.20; python_version < \"3.8\"->catalogue<1.1.0,>=0.0.7->spacy) (3.7.4.3)\n",
            "Collecting neuralcoref\n",
            "\u001b[?25l  Downloading https://files.pythonhosted.org/packages/06/6d/c90e5bfd1b8ef32f1b231a32f2f625bf33df7525324d2bbcd08992791d64/neuralcoref-4.0-cp37-cp37m-manylinux1_x86_64.whl (286kB)\n",
            "\u001b[K     |████████████████████████████████| 286kB 12.9MB/s \n",
            "\u001b[?25hRequirement already satisfied: numpy>=1.15.0 in /usr/local/lib/python3.7/dist-packages (from neuralcoref) (1.19.5)\n",
            "Collecting boto3\n",
            "\u001b[?25l  Downloading https://files.pythonhosted.org/packages/6d/13/e9288321f4d0a8a6d93c28b90b52b76788adc799da4234e2f6d8421563d5/boto3-1.17.48.tar.gz (99kB)\n",
            "\u001b[K     |████████████████████████████████| 102kB 6.9MB/s \n",
            "\u001b[?25hRequirement already satisfied: requests<3.0.0,>=2.13.0 in /usr/local/lib/python3.7/dist-packages (from neuralcoref) (2.23.0)\n",
            "Requirement already satisfied: spacy>=2.1.0 in /usr/local/lib/python3.7/dist-packages (from neuralcoref) (2.2.4)\n",
            "Collecting botocore<1.21.0,>=1.20.48\n",
            "\u001b[?25l  Downloading https://files.pythonhosted.org/packages/36/23/987dd3560d1914c161f04133c8f392d1636e1b53fa7a91b2e4fcb5136c99/botocore-1.20.48-py2.py3-none-any.whl (7.4MB)\n",
            "\u001b[K     |████████████████████████████████| 7.4MB 17.8MB/s \n",
            "\u001b[?25hCollecting jmespath<1.0.0,>=0.7.1\n",
            "  Downloading https://files.pythonhosted.org/packages/07/cb/5f001272b6faeb23c1c9e0acc04d48eaaf5c862c17709d20e3469c6e0139/jmespath-0.10.0-py2.py3-none-any.whl\n",
            "Collecting s3transfer<0.4.0,>=0.3.0\n",
            "\u001b[?25l  Downloading https://files.pythonhosted.org/packages/98/14/0b4be62b65c52d6d1c442f24e02d2a9889a73d3c352002e14c70f84a679f/s3transfer-0.3.6-py2.py3-none-any.whl (73kB)\n",
            "\u001b[K     |████████████████████████████████| 81kB 9.3MB/s \n",
            "\u001b[?25hRequirement already satisfied: certifi>=2017.4.17 in /usr/local/lib/python3.7/dist-packages (from requests<3.0.0,>=2.13.0->neuralcoref) (2020.12.5)\n",
            "Requirement already satisfied: chardet<4,>=3.0.2 in /usr/local/lib/python3.7/dist-packages (from requests<3.0.0,>=2.13.0->neuralcoref) (3.0.4)\n",
            "Requirement already satisfied: idna<3,>=2.5 in /usr/local/lib/python3.7/dist-packages (from requests<3.0.0,>=2.13.0->neuralcoref) (2.10)\n",
            "Requirement already satisfied: urllib3!=1.25.0,!=1.25.1,<1.26,>=1.21.1 in /usr/local/lib/python3.7/dist-packages (from requests<3.0.0,>=2.13.0->neuralcoref) (1.24.3)\n",
            "Requirement already satisfied: wasabi<1.1.0,>=0.4.0 in /usr/local/lib/python3.7/dist-packages (from spacy>=2.1.0->neuralcoref) (0.8.2)\n",
            "Requirement already satisfied: plac<1.2.0,>=0.9.6 in /usr/local/lib/python3.7/dist-packages (from spacy>=2.1.0->neuralcoref) (1.1.3)\n",
            "Requirement already satisfied: tqdm<5.0.0,>=4.38.0 in /usr/local/lib/python3.7/dist-packages (from spacy>=2.1.0->neuralcoref) (4.41.1)\n",
            "Requirement already satisfied: catalogue<1.1.0,>=0.0.7 in /usr/local/lib/python3.7/dist-packages (from spacy>=2.1.0->neuralcoref) (1.0.0)\n",
            "Requirement already satisfied: blis<0.5.0,>=0.4.0 in /usr/local/lib/python3.7/dist-packages (from spacy>=2.1.0->neuralcoref) (0.4.1)\n",
            "Requirement already satisfied: thinc==7.4.0 in /usr/local/lib/python3.7/dist-packages (from spacy>=2.1.0->neuralcoref) (7.4.0)\n",
            "Requirement already satisfied: srsly<1.1.0,>=1.0.2 in /usr/local/lib/python3.7/dist-packages (from spacy>=2.1.0->neuralcoref) (1.0.5)\n",
            "Requirement already satisfied: setuptools in /usr/local/lib/python3.7/dist-packages (from spacy>=2.1.0->neuralcoref) (54.2.0)\n",
            "Requirement already satisfied: murmurhash<1.1.0,>=0.28.0 in /usr/local/lib/python3.7/dist-packages (from spacy>=2.1.0->neuralcoref) (1.0.5)\n",
            "Requirement already satisfied: preshed<3.1.0,>=3.0.2 in /usr/local/lib/python3.7/dist-packages (from spacy>=2.1.0->neuralcoref) (3.0.5)\n",
            "Requirement already satisfied: cymem<2.1.0,>=2.0.2 in /usr/local/lib/python3.7/dist-packages (from spacy>=2.1.0->neuralcoref) (2.0.5)\n",
            "Requirement already satisfied: python-dateutil<3.0.0,>=2.1 in /usr/local/lib/python3.7/dist-packages (from botocore<1.21.0,>=1.20.48->boto3->neuralcoref) (2.8.1)\n",
            "Requirement already satisfied: importlib-metadata>=0.20; python_version < \"3.8\" in /usr/local/lib/python3.7/dist-packages (from catalogue<1.1.0,>=0.0.7->spacy>=2.1.0->neuralcoref) (3.8.1)\n",
            "Requirement already satisfied: six>=1.5 in /usr/local/lib/python3.7/dist-packages (from python-dateutil<3.0.0,>=2.1->botocore<1.21.0,>=1.20.48->boto3->neuralcoref) (1.15.0)\n",
            "Requirement already satisfied: typing-extensions>=3.6.4; python_version < \"3.8\" in /usr/local/lib/python3.7/dist-packages (from importlib-metadata>=0.20; python_version < \"3.8\"->catalogue<1.1.0,>=0.0.7->spacy>=2.1.0->neuralcoref) (3.7.4.3)\n",
            "Requirement already satisfied: zipp>=0.5 in /usr/local/lib/python3.7/dist-packages (from importlib-metadata>=0.20; python_version < \"3.8\"->catalogue<1.1.0,>=0.0.7->spacy>=2.1.0->neuralcoref) (3.4.1)\n",
            "Building wheels for collected packages: boto3\n",
            "  Building wheel for boto3 (setup.py) ... \u001b[?25l\u001b[?25hdone\n",
            "  Created wheel for boto3: filename=boto3-1.17.48-py2.py3-none-any.whl size=128779 sha256=7a3d547c2468bf54ea8731937d9ab326cb881e29a44abb388f3eda50d8afca4c\n",
            "  Stored in directory: /root/.cache/pip/wheels/f8/c7/1c/21169a0a35009f804c99f5e833a0eee9ddaf12a0d788756dbc\n",
            "Successfully built boto3\n",
            "\u001b[31mERROR: botocore 1.20.48 has requirement urllib3<1.27,>=1.25.4, but you'll have urllib3 1.24.3 which is incompatible.\u001b[0m\n",
            "Installing collected packages: jmespath, botocore, s3transfer, boto3, neuralcoref\n",
            "Successfully installed boto3-1.17.48 botocore-1.20.48 jmespath-0.10.0 neuralcoref-4.0 s3transfer-0.3.6\n",
            "Collecting en_core_web_md==2.2.5\n",
            "\u001b[?25l  Downloading https://github.com/explosion/spacy-models/releases/download/en_core_web_md-2.2.5/en_core_web_md-2.2.5.tar.gz (96.4MB)\n",
            "\u001b[K     |████████████████████████████████| 96.4MB 1.3MB/s \n",
            "\u001b[?25hRequirement already satisfied: spacy>=2.2.2 in /usr/local/lib/python3.7/dist-packages (from en_core_web_md==2.2.5) (2.2.4)\n",
            "Requirement already satisfied: cymem<2.1.0,>=2.0.2 in /usr/local/lib/python3.7/dist-packages (from spacy>=2.2.2->en_core_web_md==2.2.5) (2.0.5)\n",
            "Requirement already satisfied: setuptools in /usr/local/lib/python3.7/dist-packages (from spacy>=2.2.2->en_core_web_md==2.2.5) (54.2.0)\n",
            "Requirement already satisfied: requests<3.0.0,>=2.13.0 in /usr/local/lib/python3.7/dist-packages (from spacy>=2.2.2->en_core_web_md==2.2.5) (2.23.0)\n",
            "Requirement already satisfied: blis<0.5.0,>=0.4.0 in /usr/local/lib/python3.7/dist-packages (from spacy>=2.2.2->en_core_web_md==2.2.5) (0.4.1)\n",
            "Requirement already satisfied: wasabi<1.1.0,>=0.4.0 in /usr/local/lib/python3.7/dist-packages (from spacy>=2.2.2->en_core_web_md==2.2.5) (0.8.2)\n",
            "Requirement already satisfied: tqdm<5.0.0,>=4.38.0 in /usr/local/lib/python3.7/dist-packages (from spacy>=2.2.2->en_core_web_md==2.2.5) (4.41.1)\n",
            "Requirement already satisfied: preshed<3.1.0,>=3.0.2 in /usr/local/lib/python3.7/dist-packages (from spacy>=2.2.2->en_core_web_md==2.2.5) (3.0.5)\n",
            "Requirement already satisfied: plac<1.2.0,>=0.9.6 in /usr/local/lib/python3.7/dist-packages (from spacy>=2.2.2->en_core_web_md==2.2.5) (1.1.3)\n",
            "Requirement already satisfied: numpy>=1.15.0 in /usr/local/lib/python3.7/dist-packages (from spacy>=2.2.2->en_core_web_md==2.2.5) (1.19.5)\n",
            "Requirement already satisfied: srsly<1.1.0,>=1.0.2 in /usr/local/lib/python3.7/dist-packages (from spacy>=2.2.2->en_core_web_md==2.2.5) (1.0.5)\n",
            "Requirement already satisfied: murmurhash<1.1.0,>=0.28.0 in /usr/local/lib/python3.7/dist-packages (from spacy>=2.2.2->en_core_web_md==2.2.5) (1.0.5)\n",
            "Requirement already satisfied: catalogue<1.1.0,>=0.0.7 in /usr/local/lib/python3.7/dist-packages (from spacy>=2.2.2->en_core_web_md==2.2.5) (1.0.0)\n",
            "Requirement already satisfied: thinc==7.4.0 in /usr/local/lib/python3.7/dist-packages (from spacy>=2.2.2->en_core_web_md==2.2.5) (7.4.0)\n",
            "Requirement already satisfied: chardet<4,>=3.0.2 in /usr/local/lib/python3.7/dist-packages (from requests<3.0.0,>=2.13.0->spacy>=2.2.2->en_core_web_md==2.2.5) (3.0.4)\n",
            "Requirement already satisfied: urllib3!=1.25.0,!=1.25.1,<1.26,>=1.21.1 in /usr/local/lib/python3.7/dist-packages (from requests<3.0.0,>=2.13.0->spacy>=2.2.2->en_core_web_md==2.2.5) (1.24.3)\n",
            "Requirement already satisfied: certifi>=2017.4.17 in /usr/local/lib/python3.7/dist-packages (from requests<3.0.0,>=2.13.0->spacy>=2.2.2->en_core_web_md==2.2.5) (2020.12.5)\n",
            "Requirement already satisfied: idna<3,>=2.5 in /usr/local/lib/python3.7/dist-packages (from requests<3.0.0,>=2.13.0->spacy>=2.2.2->en_core_web_md==2.2.5) (2.10)\n",
            "Requirement already satisfied: importlib-metadata>=0.20; python_version < \"3.8\" in /usr/local/lib/python3.7/dist-packages (from catalogue<1.1.0,>=0.0.7->spacy>=2.2.2->en_core_web_md==2.2.5) (3.8.1)\n",
            "Requirement already satisfied: zipp>=0.5 in /usr/local/lib/python3.7/dist-packages (from importlib-metadata>=0.20; python_version < \"3.8\"->catalogue<1.1.0,>=0.0.7->spacy>=2.2.2->en_core_web_md==2.2.5) (3.4.1)\n",
            "Requirement already satisfied: typing-extensions>=3.6.4; python_version < \"3.8\" in /usr/local/lib/python3.7/dist-packages (from importlib-metadata>=0.20; python_version < \"3.8\"->catalogue<1.1.0,>=0.0.7->spacy>=2.2.2->en_core_web_md==2.2.5) (3.7.4.3)\n",
            "Building wheels for collected packages: en-core-web-md\n",
            "  Building wheel for en-core-web-md (setup.py) ... \u001b[?25l\u001b[?25hdone\n",
            "  Created wheel for en-core-web-md: filename=en_core_web_md-2.2.5-cp37-none-any.whl size=98051305 sha256=8f615c844e8b6c7e7a7cd48865a7ac272166e47de24516507c3eeb40ee935c7f\n",
            "  Stored in directory: /tmp/pip-ephem-wheel-cache-4yll3w5s/wheels/df/94/ad/f5cf59224cea6b5686ac4fd1ad19c8a07bc026e13c36502d81\n",
            "Successfully built en-core-web-md\n",
            "Installing collected packages: en-core-web-md\n",
            "Successfully installed en-core-web-md-2.2.5\n",
            "\u001b[38;5;2m✔ Download and installation successful\u001b[0m\n",
            "You can now load the model via spacy.load('en_core_web_md')\n",
            "Collecting sentencepiece\n",
            "\u001b[?25l  Downloading https://files.pythonhosted.org/packages/f5/99/e0808cb947ba10f575839c43e8fafc9cc44e4a7a2c8f79c60db48220a577/sentencepiece-0.1.95-cp37-cp37m-manylinux2014_x86_64.whl (1.2MB)\n",
            "\u001b[K     |████████████████████████████████| 1.2MB 12.7MB/s \n",
            "\u001b[?25hInstalling collected packages: sentencepiece\n",
            "Successfully installed sentencepiece-0.1.95\n"
          ],
          "name": "stdout"
        }
      ]
    },
    {
      "cell_type": "code",
      "metadata": {
        "colab": {
          "base_uri": "https://localhost:8080/"
        },
        "id": "IfPCEWQ-L46T",
        "outputId": "1f2d9478-63d9-4713-8cf9-adf9100448cc"
      },
      "source": [
        "# Import Statements\n",
        "import math\n",
        "import numpy as np\n",
        "import re\n",
        "from newspaper import Article\n",
        "from textwrap import TextWrapper\n",
        "from summarizer import Summarizer\n",
        "from spacy.lang.en import English\n",
        "from transformers import pipeline, BartTokenizer, BartForConditionalGeneration, BartConfig\n",
        "import torch\n",
        "import nltk\n",
        "nltk.download('punkt')\n",
        "\n",
        "wrapper = TextWrapper(width=80)"
      ],
      "execution_count": 2,
      "outputs": [
        {
          "output_type": "stream",
          "text": [
            "[nltk_data] Downloading package punkt to /root/nltk_data...\n",
            "[nltk_data]   Unzipping tokenizers/punkt.zip.\n"
          ],
          "name": "stdout"
        }
      ]
    },
    {
      "cell_type": "markdown",
      "metadata": {
        "id": "t3pQ9vwpgkQ6"
      },
      "source": [
        "## Get Articles\n",
        "We'll use the newspaper3k application to quickly pull in article details"
      ]
    },
    {
      "cell_type": "code",
      "metadata": {
        "id": "vbhJ7YQsQHx_"
      },
      "source": [
        "def get_article(url):\n",
        "  \"\"\"Get info about article\"\"\"\n",
        "  article = Article(url)\n",
        "  article.download()\n",
        "  article.parse()\n",
        "  title = article.title\n",
        "  authors = article.authors\n",
        "  date = str(article.publish_date.date())\n",
        "  print(\"Title:\", wrapper.fill(title))\n",
        "  print(\"Authors:\", str(article.authors))\n",
        "  print(\"Date Published:\", date)\n",
        "  print(\"Number of characters:\", len(article.text))\n",
        "  return article, title, authors, date"
      ],
      "execution_count": 3,
      "outputs": []
    },
    {
      "cell_type": "code",
      "metadata": {
        "id": "ewA2gtqOL8IP"
      },
      "source": [
        "# # Crawl URLs with `newspaper3k`\n",
        "short_article_url = \"https://apnews.com/article/joe-biden-us-news-afghanistan-taliban-28143e059b2f07fed62f9404b58a982c\" #@param {type: 'string'}\n",
        "medium_article_url = \"https://monthlyreview.org/2009/04/01/the-credit-crisis-is-the-international-role-of-the-dollar-at-stake/\" #@param {type: 'string'}"
      ],
      "execution_count": 21,
      "outputs": []
    },
    {
      "cell_type": "code",
      "metadata": {
        "colab": {
          "base_uri": "https://localhost:8080/"
        },
        "id": "thOpEYgjOtr4",
        "outputId": "2cc4f6f6-43e5-4309-8623-4973193144c4"
      },
      "source": [
        "article, title, authors, date = get_article(short_article_url)"
      ],
      "execution_count": 22,
      "outputs": [
        {
          "output_type": "stream",
          "text": [
            "Title: Biden seems ready to extend US troop presence in Afghanistan\n",
            "Authors: ['Robert Burns']\n",
            "Date Published: 2021-04-08\n",
            "Number of characters: 6464\n"
          ],
          "name": "stdout"
        }
      ]
    },
    {
      "cell_type": "code",
      "metadata": {
        "id": "sASj-KpCMOwH"
      },
      "source": [
        "# conversely, you can input your own text\n",
        "\n",
        "# article = \"\"\n",
        "# title = \"\"\n",
        "# authors = \"\"\n",
        "# date = \"\""
      ],
      "execution_count": 23,
      "outputs": []
    },
    {
      "cell_type": "markdown",
      "metadata": {
        "id": "jSxxQB0UgwgH"
      },
      "source": [
        "## Splitting Articles into Paragraphs\n",
        "We'll need to do some additional cleaning and prepare the data so we can summarize key details. Splitting the text into paragraphs will help accomplish this task."
      ]
    },
    {
      "cell_type": "code",
      "metadata": {
        "id": "f2bCuTskM1f9"
      },
      "source": [
        "def create_paragraphs(article):\n",
        "  \"\"\"Buckets into paragraphs for analysis\"\"\"\n",
        "  paragraphs = article.text.split('\\n\\n')\n",
        "  paragraphs = [x for x in paragraphs if len(x) > 100] # must be > 100 characters (assume else is heading or irrelevant)\n",
        "  print(\"Paragraphs:\")\n",
        "  for index, paragraph in enumerate(paragraphs): # print sentences\n",
        "    print(\"{}: {}\".format(index + 1, paragraph))\n",
        "\n",
        "  print(\"\\nYou can remove any paragraphs you deem unfit by running \\n    \"\n",
        "  \"paragraphs = drop_paragraphs(paragraphs, list_to_drop)\"\n",
        "  \"\\nwhere list_to_drop is a list of the above numbers.\")\n",
        "\n",
        "  return paragraphs\n",
        "\n",
        "def drop_paragraphs(paragraphs, list_to_drop):\n",
        "  \"\"\"function to allow the user to remove paragraphs they feel are unimportant\"\"\"\n",
        "  for i in sorted(list_to_drop, reverse=True):\n",
        "    del paragraphs[i - 1]\n",
        "  return paragraphs"
      ],
      "execution_count": 24,
      "outputs": []
    },
    {
      "cell_type": "code",
      "metadata": {
        "colab": {
          "base_uri": "https://localhost:8080/"
        },
        "id": "JeE16ARbNieI",
        "outputId": "315701de-8d68-4be2-f279-e97508294f29"
      },
      "source": [
        "paragraphs = create_paragraphs(article)"
      ],
      "execution_count": 25,
      "outputs": [
        {
          "output_type": "stream",
          "text": [
            "Paragraphs:\n",
            "1: FILE - In this Nov. 28, 2019, file photo armed soldiers stand guard in the motorcade for President Donald Trump speaks during a surprise Thanksgiving Day visit to the troops at Bagram Air Field, Afghanistan. Without coming right out and saying it, President Joe Biden seems ready to let lapse a May 1 deadline for completing a withdrawal of U.S. troops from Afghanistan. Orderly withdrawals take time, and Biden is running out of it. (AP Photo/Alex Brandon, File)\n",
            "2: FILE - In this Nov. 28, 2019, file photo armed soldiers stand guard in the motorcade for President Donald Trump speaks during a surprise Thanksgiving Day visit to the troops at Bagram Air Field, Afghanistan. Without coming right out and saying it, President Joe Biden seems ready to let lapse a May 1 deadline for completing a withdrawal of U.S. troops from Afghanistan. Orderly withdrawals take time, and Biden is running out of it. (AP Photo/Alex Brandon, File)\n",
            "3: WASHINGTON (AP) — Without coming right out and saying it, President Joe Biden seems ready to let lapse a May 1 deadline for completing a withdrawal of U.S. troops from Afghanistan. Orderly withdrawals take time, and Biden is running out of it.\n",
            "4: Biden has inched so close to the deadline that his indecision amounts almost to a decision to put off, at least for a number of months, a pullout of the remaining 2,500 troops and continue supporting the Afghan military at the risk of a Taliban backlash. Removing all of the troops and their equipment in the next three weeks — along with coalition partners that cannot get out on their own — would be difficult logistically , as Biden himself suggested in late March.\n",
            "5: “It’s going to be hard to meet the May 1 deadline,” he said. “Just in terms of tactical reasons, it’s hard to get those troops out.” Tellingly, he added, “And if we leave, we’re going to do so in a safe and orderly way.”\n",
            "6: James Stavridis, a retired Navy admiral who served as NATO’s top commander from 2009 to 2013, says it would be unwise at this point to get out quickly.\n",
            "7: “Sometimes not making a decision becomes a decision, which seems the case with the May 1 deadline,” Stavridis said in an email exchange Wednesday. “The most prudent course of action feels like a six-month extension and an attempt to get the Taliban truly meeting their promises — essentially permitting a legitimate ‘conditions based’ withdrawal in the fall.”\n",
            "8: There are crosscurrents of pressure on Biden. On the one hand, he has argued for years, including during his time as vice president, when President Barack Obama ordered a huge buildup of U.S. forces, that Afghanistan is better handled as a smaller-scale counterterrorism mission. Countering Russia and China has since emerged as a higher priority.\n",
            "9: On the other hand, current and former military officers have argued that leaving now, with the Taliban in a position of relative strength and the Afghan government in a fragile state, would risk losing what has been gained in 20 years of fighting.\n",
            "10: “A withdrawal would not only leave America more vulnerable to terrorist threats; it would also have catastrophic effects in Afghanistan and the region that would not be in the interest of any of the key actors, including the Taliban,” a bipartisan experts group known as the Afghan Study Group concluded in a February report. The group, whose co-chair, retired Gen. Joseph Dunford, is a former commander of U.S. forces in Afghanistan and former chairman of the Joint Chiefs, recommended Biden extend the deadline beyond May, preferably with some sort of agreement by the Taliban.\n",
            "11: If the troops stay, Afghanistan will become Biden’s war. His decisions, now and in coming months, could determine the legacy of a 2001 U.S. invasion that was designed as a response to al-Qaida’s Sept. 11 attacks, for which the extremist group led by Osama bin Laden used Afghanistan as a haven.\n",
            "12: Biden said during the 2020 campaign that if elected he might keep a counterterrorism force in Afghanistan but also would “end the war responsibly” to ensure U.S. forces never have to return. The peace talks that began last fall between the Taliban and the Afghan government are seen as the best hope, but they have produced little so far.\n",
            "13: Postponing the U.S. withdrawal carries the risk of the Taliban resuming attacks on U.S. and coalition forces, possibly escalating the war. In a February 2020 agreement with the administration of President Donald Trump, the Taliban agreed to halt such attacks and hold peace talks with the Afghan government, in exchange for a U.S. commitment to a complete withdrawal by May 2021.\n",
            "14: When he entered the White House in January, Biden knew of the looming deadline and had time to meet it if he had chosen to do so. It became a steep logistical hurdle only because he put off a decision in favor of consulting at length inside his administration and with allies. Flying thousands of troops and their equipment out of Afghanistan in the next three weeks under the potential threat of Taliban resistance is not technically impossible, although it would appear to violate Biden’s promise not to rush.\n",
            "15: Biden undertook a review of the February 2020 agreement shortly after taking office, and as recently as Tuesday aides said he was still contemplating a way ahead in Afghanistan. White House press secretary Jen Psaki said Thursday it is likely that Biden will address the matter before May 1.\n",
            "16: “He has been consistent and clear that it is operationally challenging to get troops out by May 1, which is not a deadline he put in place,” Psaki said. “It is a timeline put in place by the prior administration.”\n",
            "17: In briefings on Afghanistan, Biden would have heard from military commanders such as Gen. Frank McKenzie, head of U.S. Central Command, who have said publicly and repeatedly that the Taliban have not fully lived up to the commitments they made in the February 2020 agreement. McKenzie and others have said violence levels are too high for a durable political settlement to be made.\n",
            "18: Congress has been cautious about reducing the U.S. military presence in Afghanistan. Last year it expressly forbade the Pentagon from using funds to reduce below 4,000 troops, but the Pentagon went ahead anyway after Trump ordered a reduction to 2,500 after he lost the election. Trump got around the legal prohibition by signing a waiver.\n",
            "19: This story has been corrected to reflect the proper spelling of the last name for James Stavridis, a retired Navy admiral.\n",
            "\n",
            "You can remove any paragraphs you deem unfit by running \n",
            "    paragraphs = drop_paragraphs(paragraphs, list_to_drop)\n",
            "where list_to_drop is a list of the above numbers.\n"
          ],
          "name": "stdout"
        }
      ]
    },
    {
      "cell_type": "code",
      "metadata": {
        "id": "xTTyCp5LQ5oO"
      },
      "source": [
        "paragraphs = drop_paragraphs(paragraphs, [1, 2, 19]) # photo details and correction"
      ],
      "execution_count": 26,
      "outputs": []
    },
    {
      "cell_type": "markdown",
      "metadata": {
        "id": "OMj3AwDHhHBF"
      },
      "source": [
        "## Models and Tokenizers\n",
        "BART, or Bidirectional and Auto-Regressive Transformers, will be used for this task as it performs well for summarization tasks. According to the docs:\n",
        "\n",
        "> BART uses a standard seq2seq/machine translation architecture with a bidirectional encoder (like BERT) and a left-to-right decoder (like GPT). \n",
        "\n",
        "> The pretraining task involves randomly shuffling the order of the original sentences and a novel in-filling scheme, where spans of text are replaced with a single mask token.\n",
        "\n",
        "> BART is particularly effective when fine tuned for text generation but also works well for comprehension tasks. It matches the performance of RoBERTa with comparable training resources on GLUE and SQuAD, achieves new state-of-the-art results on a range of abstractive dialogue, question answering, and summarization tasks, with gains of up to 6 ROUGE.\n",
        "\n",
        "Here we will use BART-CNN, which has been fine-tuned on the CNN article/summarization datatest."
      ]
    },
    {
      "cell_type": "code",
      "metadata": {
        "id": "sa6KinmuN1km",
        "colab": {
          "base_uri": "https://localhost:8080/",
          "height": 265,
          "referenced_widgets": [
            "7d417e253e43432cb9f54140bec490d9",
            "0940a127be41498da873205ea9f4a993",
            "746e5f1bd7614469acbce80d75717773",
            "b48a9064011d45c3adebb6d60ed819a9",
            "b461918f3b95493b938467d3ec0a27ef",
            "0c9aa7a3ca2440d8bfc4a4787c124ff8",
            "f994b2cf58e74b95b3c9a2b36e3c0da8",
            "901b9fbf42c44ed09312cc6c95fe1a6b",
            "f1224f9f9cf44b2e9a41ffc331b4e39f",
            "c95fcf2effcb4d34a1c7a9d11f5e4ec5",
            "8fd37b0c9490405d99c0a8d254963e00",
            "17474f9df83546a6ba966ba9e81397f4",
            "9d089aeac54a4ddb8554fd21c100e54b",
            "d7979e651cbc4c099a111251941e113d",
            "db0217dab3e242ac99c4c133f4b6484f",
            "f9a8c44ebef4434f8ba6afbdf805a1f2",
            "a0d39932a3294eaaae14a70dc4d5b35b",
            "778c7b07242d403c974c550a2005d395",
            "5eb483826275444ead5c345196ae8dba",
            "7fe3b0f7c00c448a866a5ec1a2c63a08",
            "a2f1595bc5d9484ca234fb04f52e83d6",
            "70c223f56f5a40ddbcc3eaced57e5561",
            "035155035f2b41058c84d87cc14bea8b",
            "78182a63f58f42ca85609168585f77cc",
            "1b10d0d1c0cb436e96da45762e2c357f",
            "bd278adb054f4168939a66b81609c074",
            "35fc851c3d514d33a694f7ecb2ee2a4e",
            "a1f619ad4d6b4a849093c179b8067978",
            "78c4338fd8b74ca4a0a74b48f77f3f46",
            "32fc57d50fc24b7d9e14932ebddf46a6",
            "b5f7d5be92c54807a7a75de8739d88f6",
            "4c71a9245ce14bf0a9580b7939eb123e",
            "1b1dfd8b661d4fdd92451688f81b7c61",
            "aec44bc17b6b4bd8a11fbeda95b83f72",
            "90919bbeba9f4818b09b72581ff7e165",
            "72683726200644cea74bb75874c382b1",
            "72b7d9eb5574414e8a10ce114ebb0739",
            "96bb8255cb4043a6b605645c83cfc95a",
            "2475f477e641421c9dac75c1ffec2919",
            "bc3b3887d38040b69ea734f196881d0d"
          ]
        },
        "outputId": "548b1d53-d694-4e24-a736-8e6fc3810b5b"
      },
      "source": [
        "# initialize BART-CNN\n",
        "cnn_model = BartForConditionalGeneration.from_pretrained('facebook/bart-large-cnn')\n",
        "cnn_tokenizer = BartTokenizer.from_pretrained('facebook/bart-large-cnn')"
      ],
      "execution_count": 10,
      "outputs": [
        {
          "output_type": "display_data",
          "data": {
            "application/vnd.jupyter.widget-view+json": {
              "model_id": "7d417e253e43432cb9f54140bec490d9",
              "version_minor": 0,
              "version_major": 2
            },
            "text/plain": [
              "HBox(children=(FloatProgress(value=0.0, description='Downloading', max=1399.0, style=ProgressStyle(description…"
            ]
          },
          "metadata": {
            "tags": []
          }
        },
        {
          "output_type": "stream",
          "text": [
            "\n"
          ],
          "name": "stdout"
        },
        {
          "output_type": "display_data",
          "data": {
            "application/vnd.jupyter.widget-view+json": {
              "model_id": "f1224f9f9cf44b2e9a41ffc331b4e39f",
              "version_minor": 0,
              "version_major": 2
            },
            "text/plain": [
              "HBox(children=(FloatProgress(value=0.0, description='Downloading', max=1625270765.0, style=ProgressStyle(descr…"
            ]
          },
          "metadata": {
            "tags": []
          }
        },
        {
          "output_type": "stream",
          "text": [
            "\n"
          ],
          "name": "stdout"
        },
        {
          "output_type": "display_data",
          "data": {
            "application/vnd.jupyter.widget-view+json": {
              "model_id": "a0d39932a3294eaaae14a70dc4d5b35b",
              "version_minor": 0,
              "version_major": 2
            },
            "text/plain": [
              "HBox(children=(FloatProgress(value=0.0, description='Downloading', max=898823.0, style=ProgressStyle(descripti…"
            ]
          },
          "metadata": {
            "tags": []
          }
        },
        {
          "output_type": "stream",
          "text": [
            "\n"
          ],
          "name": "stdout"
        },
        {
          "output_type": "display_data",
          "data": {
            "application/vnd.jupyter.widget-view+json": {
              "model_id": "1b10d0d1c0cb436e96da45762e2c357f",
              "version_minor": 0,
              "version_major": 2
            },
            "text/plain": [
              "HBox(children=(FloatProgress(value=0.0, description='Downloading', max=456318.0, style=ProgressStyle(descripti…"
            ]
          },
          "metadata": {
            "tags": []
          }
        },
        {
          "output_type": "stream",
          "text": [
            "\n"
          ],
          "name": "stdout"
        },
        {
          "output_type": "display_data",
          "data": {
            "application/vnd.jupyter.widget-view+json": {
              "model_id": "1b1dfd8b661d4fdd92451688f81b7c61",
              "version_minor": 0,
              "version_major": 2
            },
            "text/plain": [
              "HBox(children=(FloatProgress(value=0.0, description='Downloading', max=1355863.0, style=ProgressStyle(descript…"
            ]
          },
          "metadata": {
            "tags": []
          }
        },
        {
          "output_type": "stream",
          "text": [
            "\n"
          ],
          "name": "stdout"
        }
      ]
    },
    {
      "cell_type": "markdown",
      "metadata": {
        "id": "z7WdGF_fiq7K"
      },
      "source": [
        "We'll need to create an abstract:"
      ]
    },
    {
      "cell_type": "code",
      "metadata": {
        "id": "GniVo3-nNj2g"
      },
      "source": [
        "def create_abstract(paragraphs, title, authors, date):\n",
        "  article_cleaned = \" \".join(paragraphs)\n",
        "  inputs = cnn_tokenizer([article_cleaned], max_length=1024, truncation=True, # limited to first 1024 tokens\n",
        "                         return_tensors='pt')\n",
        "  summary_ids = cnn_model.generate(inputs['input_ids'], num_return_sequences=1,\n",
        "                                  early_stopping=True, num_beams=3,\n",
        "                                  min_length=80, max_length=120, \n",
        "                                  do_sample=False)\n",
        "  abstract = cnn_tokenizer.decode(summary_ids[0], skip_special_tokens=True, clean_up_tokenization_spaces=True)\n",
        "  abstract = re.sub(r\", writes ([^\\s]+) ([^\\s]+).\", \", writes {}.\".format(authors[0]), abstract) # sometimes misses authors name\n",
        "  abstract = re.sub(r\", says ([^\\s]+) ([^\\s]+)\", \"\", abstract) # sometimes misses authors name\n",
        "  print(\"Title:\", wrapper.fill(title))\n",
        "  print(\"Authors:\", wrapper.fill(str(authors)))\n",
        "  print(\"Date:\", wrapper.fill(date))\n",
        "  print(\"\\nAbstract:\", wrapper.fill(abstract))"
      ],
      "execution_count": 61,
      "outputs": []
    },
    {
      "cell_type": "code",
      "metadata": {
        "colab": {
          "base_uri": "https://localhost:8080/"
        },
        "id": "3UtS9Yd5Rij_",
        "outputId": "2c629fbf-2bf2-40fd-a76f-dcb677011a5d"
      },
      "source": [
        "create_abstract(paragraphs, title, authors, date)"
      ],
      "execution_count": 28,
      "outputs": [
        {
          "output_type": "stream",
          "text": [
            "Title: Biden seems ready to extend US troop presence in Afghanistan\n",
            "Authors: ['Robert Burns']\n",
            "Date: 2021-04-08\n",
            "\n",
            "Abstract: President Joe Biden seems ready to let lapse a May 1 deadline for completing a\n",
            "withdrawal of U.S. troops from Afghanistan. Removing all of the troops and their\n",
            "equipment in the next three weeks would be difficult logistically. If the troops\n",
            "stay, Afghanistan will become Biden’s war. His decisions, now and in coming\n",
            "months, could determine the legacy of a 2001 U.N. invasion.\n"
          ],
          "name": "stdout"
        }
      ]
    },
    {
      "cell_type": "code",
      "metadata": {
        "id": "mckzb1nxRlNH"
      },
      "source": [
        "def chunk_paragraphs(paragraphs, granularity=2):\n",
        "  \"\"\"Chunks paragraphs into start, end, and then a series of middle paragraphs\n",
        "  param granularity: controls level of detail, more granularity may mean more paragraphs to process\n",
        "  \"\"\"\n",
        "  if len(paragraphs) >= 6:\n",
        "    block_off = 2\n",
        "  elif len(paragraphs) >= 4:\n",
        "    block_off = 1\n",
        "\n",
        "  middle = paragraphs[block_off:-block_off]\n",
        "\n",
        "  lengths = []\n",
        "  chunks = []\n",
        "  paragraphs_to_chunk = []\n",
        "  present_length = 0\n",
        "  for paragraph in middle:\n",
        "    inputs = cnn_tokenizer([paragraph], return_tensors='pt', truncation=True)\n",
        "    length = len(inputs['input_ids'][0])\n",
        "    lengths.append(length)\n",
        "    avg_length = np.mean(lengths)\n",
        "    present_length += length\n",
        "    if present_length > 1024:\n",
        "      chunks.append(paragraphs_to_chunk)\n",
        "      present_length = 0\n",
        "    elif present_length >= 1024 - avg_length*granularity:\n",
        "      paragraphs_to_chunk.append(paragraph)\n",
        "      chunks.append(paragraphs_to_chunk)\n",
        "      paragraphs_to_chunk = []\n",
        "      present_length = 0\n",
        "    else:\n",
        "        paragraphs_to_chunk.append(paragraph)\n",
        "\n",
        "  if len(chunks) == 0:\n",
        "    chunks = [paragraphs_to_chunk]\n",
        "\n",
        "  start_chunks = \" \".join(paragraphs[:block_off])\n",
        "\n",
        "  last_chunk = \" \".join(chunks[-1])\n",
        "  end_chunks = \" \".join(paragraphs[-block_off:])\n",
        "  inputs = cnn_tokenizer([last_chunk], return_tensors='pt', truncation=True)\n",
        "  lc_length = len(inputs['input_ids'][0])\n",
        "  inputs = cnn_tokenizer([end_chunks], return_tensors='pt', truncation=True)\n",
        "  ec_length = len(inputs['input_ids'][0])\n",
        "  if lc_length + ec_length <= 1024 and ec_length <= 1024 - avg_length*granularity:\n",
        "    # print(\"Adding final 'middle chunk' to the end of article chunk.\")\n",
        "    end_chunks = last_chunk + \" \" + end_chunks\n",
        "    chunks = chunks[:-1]\n",
        "\n",
        "  if len(chunks) > 0:\n",
        "    chunks = [\". \".join(x) for x in chunks]\n",
        "    paragraph_chunks = [start_chunks] + chunks + [end_chunks]\n",
        "\n",
        "  else:\n",
        "      paragraph_chunks = [start_chunks] + [end_chunks]\n",
        "\n",
        "  return paragraph_chunks"
      ],
      "execution_count": 66,
      "outputs": []
    },
    {
      "cell_type": "code",
      "metadata": {
        "colab": {
          "base_uri": "https://localhost:8080/"
        },
        "id": "MmtKv0PCSIZd",
        "outputId": "705c20c1-1f6c-49f6-a9bc-706bdd544c06"
      },
      "source": [
        "paragraph_chunks = chunk_paragraphs(paragraphs, granularity=10)\n",
        "print(\"Number of chunks:\", len(paragraph_chunks)) # I want three chunks to summarize, granularity 10 seems to work"
      ],
      "execution_count": 30,
      "outputs": [
        {
          "output_type": "stream",
          "text": [
            "Adding final 'middle chunk' to the end of article chunk.\n",
            "Number of chunks: 3\n"
          ],
          "name": "stdout"
        }
      ]
    },
    {
      "cell_type": "markdown",
      "metadata": {
        "id": "mADPfcQLizDK"
      },
      "source": [
        "And get key details:"
      ]
    },
    {
      "cell_type": "code",
      "metadata": {
        "id": "jAwmSECaSM8c"
      },
      "source": [
        "def key_details(paragraph_chunks):\n",
        "  \"\"\"Gets key ideas and details from each part of article\"\"\"\n",
        "  details_list = []\n",
        "  for chunk in paragraph_chunks:\n",
        "    inputs = cnn_tokenizer([chunk], max_length=1024, return_tensors='pt', truncation=True)\n",
        "    summary_ids = cnn_model.generate(inputs['input_ids'], num_return_sequences=1, output_scores=False, \n",
        "                                  early_stopping=True, num_beams=3, length_penalty=0.2)\n",
        "    key_idea = [cnn_tokenizer.decode(g, skip_special_tokens=True, clean_up_tokenization_spaces=True) for g in summary_ids]\n",
        "    key_idea = re.sub(r'(\\\"[^\\\"]*)\\\" [A-Z]', r'\\1.\" ', key_idea[0]) # second quotation(\") fix\n",
        "    key_idea = key_idea.replace('. “', '.“') # additional quotation fix\n",
        "    key_idea = re.sub(r\", writes ([^\\s]+) ([^\\s]+).\", \".\", key_idea) # sometimes misses authors name\n",
        "    key_idea = re.sub(r\", says ([^\\s]+) ([^\\s]+).\", \".\", key_idea) # sometimes misses authors name\n",
        "    key_idea = key_idea.replace(\", he says\", \"\") # sometimes misses authors name\n",
        "    key_idea = re.sub(r\"\\. \\b[A-Z].*?\\b\\: \", \". \", key_idea) # sometimes misses authors name\n",
        "    nlp = English()\n",
        "    nlp.add_pipe(nlp.create_pipe('sentencizer'))\n",
        "    key_idea = [sent.string.strip() for sent in nlp(key_idea).sents][0]\n",
        "    print(100 * '-')\n",
        "    print(\"Key Idea:\", wrapper.fill(key_idea))\n",
        "    summary_ids = cnn_model.generate(inputs['input_ids'], num_return_sequences=1,\n",
        "                                  early_stopping=True, num_beams=2, \n",
        "                                  min_length=80, \n",
        "                                  max_length=160, \n",
        "                                  do_sample=False)\n",
        "    details = [cnn_tokenizer.decode(g, skip_special_tokens=True, \n",
        "                                    clean_up_tokenization_spaces=True) for g in summary_ids][0]\n",
        "\n",
        "    # if the key idea is present in the details, let's first look for an alternative generation\n",
        "    if key_idea in details:\n",
        "      summary_ids = cnn_model.generate(inputs['input_ids'], num_return_sequences=1,\n",
        "                                  early_stopping=True, num_beams=2, \n",
        "                                  min_length=80, \n",
        "                                  max_length=160, \n",
        "                                  top_p = 0.8,\n",
        "                                  do_sample=True)\n",
        "      details_alt = [cnn_tokenizer.decode(g, skip_special_tokens=True, \n",
        "                                           clean_up_tokenization_spaces=True) for g in summary_ids]\n",
        "      \n",
        "      # if the key idea is present in the alternative, just use the original and remove the key idea\n",
        "      if key_idea in details_alt[0]:\n",
        "        details = details.replace(key_idea, \"\")\n",
        "      else:\n",
        "        details = details_alt[0]\n",
        "    \n",
        "    details = re.sub(r\", writes ([^\\s]+) ([^\\s]+).\", \".\", details) # sometimes misses authors name\n",
        "    details = re.sub(r\", says ([^\\s]+) ([^\\s]+).\", \".\", details) # sometimes misses authors name\n",
        "    details = details.replace(\", he says\", \"\") # sometimes misses authors name\n",
        "    details = re.sub(r\"\\. \\b[A-Z].*?\\b\\: \", \". \", details) # sometimes misses authors name\n",
        "    print(\"\\nDetails:\", wrapper.fill(details))\n",
        "    details_list.append(details)\n",
        "  return details_list"
      ],
      "execution_count": 79,
      "outputs": []
    },
    {
      "cell_type": "code",
      "metadata": {
        "colab": {
          "base_uri": "https://localhost:8080/"
        },
        "id": "TUCso4dNTSyS",
        "outputId": "e043ee19-3e45-4d4c-ed33-b08797fb27a4"
      },
      "source": [
        "details_list = key_details(paragraph_chunks)"
      ],
      "execution_count": 40,
      "outputs": [
        {
          "output_type": "stream",
          "text": [
            "----------------------------------------------------------------------------------------------------\n",
            "Key Idea: Biden has inched so close to the deadline that his indecision amounts almost to\n",
            "a decision to put off a pullout of the remaining 2,500 troops.\n",
            "\n",
            "Details: Biden has inched so close to the deadline that his indecision amounts almost to\n",
            "a decision to put off a pullout. Removing all of the troops and their equipment\n",
            "in the next three weeks would be difficult logistically. Biden himself suggested\n",
            "in late March that the U.S. should hold off on pulling out all of its 2,500\n",
            "troops until after May 1. The U.N. Security Council has set a May 1 deadline for\n",
            "completing a withdrawal.\n",
            "----------------------------------------------------------------------------------------------------\n",
            "Key Idea: “It’s going to be hard to meet the May 1 deadline,” retired Navy admiral James\n",
            "Stavridis says.\n",
            "\n",
            "Details: Biden is under pressure to extend the deadline to get out of Afghanistan. A\n",
            "retired Navy admiral who served as NATO's top commander says it would be unwise\n",
            "at this point to leave quickly. There are crosscurrents of pressure on Biden,\n",
            "who has argued that Afghanistan is better handled as a counterterrorism mission.\n",
            "On the other hand, current and former military officers have argued that leaving\n",
            "now would risk losing what has been gained in 20 years.\n",
            "----------------------------------------------------------------------------------------------------\n",
            "Key Idea: Biden said during the 2020 campaign that if elected he might keep a\n",
            "counterterrorism force in Afghanistan.\n",
            "\n",
            "Details:  Postponing the U.S. withdrawal carries the risk of the Taliban resuming\n",
            "attacks. Peace talks that began last fall between the Taliban and the Afghan\n",
            "government are seen as the best hope, but they have produced little so far. The\n",
            "Taliban agreed to halt such attacks and hold peace talks in exchange for a U.s.\n",
            "commitment to a complete withdrawal by May 2021.\n"
          ],
          "name": "stdout"
        }
      ]
    },
    {
      "cell_type": "markdown",
      "metadata": {
        "id": "j2Skd338i2D1"
      },
      "source": [
        "This seems to work well! Let's try it on our longer, more complex article."
      ]
    },
    {
      "cell_type": "code",
      "metadata": {
        "colab": {
          "base_uri": "https://localhost:8080/"
        },
        "id": "lRdPsuQFTc8J",
        "outputId": "1688c13c-15eb-4b66-92f7-226b88c17776"
      },
      "source": [
        "article, title, authors, date = get_article(medium_article_url)\n",
        "paragraphs = create_paragraphs(article)"
      ],
      "execution_count": 56,
      "outputs": [
        {
          "output_type": "stream",
          "text": [
            "Title: The Credit Crisis: Is the International Role of the Dollar at Stake?\n",
            "Authors: ['Ramaa Vasudevan', 'The Editors', 'Hannah Holleman', 'Inger L. Stole', 'John Bellamy Foster', 'Robert W. Mcchesney', 'Simten Cosar', 'Metin Yegenoglu', 'Martin Hart-Landsberg']\n",
            "Date Published: 2009-04-01\n",
            "Number of characters: 21030\n",
            "Paragraphs:\n",
            "1: Ramaa Vasudevan teaches economics at Colorado State University. She is a member of the Union for Radical Political Economics and the Dollars and Sense collective.\n",
            "2: As the first tremors of the looming financial crisis ripped through Wall Street, with the meltdown of the subprime mortgage market in the summer of 2007, the dollar plunged sharply. Perversely however, even as some financial pundits were foretelling its collapse, the deepening of the crisis following the bankruptcy of Lehman Brothers in September 2008 actually saw the dollar gain ground sharply (for the first time since the steady decline that began in 2002; see chart 1).\n",
            "3: Chart 1. Nominal major currencies dollar index Source: Federal Reserve, \"Nominal Major Currencies Dollar Index.\"\n",
            "4: For any other country a financial crisis of this magnitude would have sparked a full-scale currency crisis. Why then has the deepening of a crisis centered in the United States actually seen the reverse, the strengthening of the dollar? The answer lies in the continuing role of the dollar as international money.\n",
            "5: In “Finance, Imperialism, and the Hegemony of the Dollar,” in the April 2008 issue of Monthly Review, I argued that the privileged role of the dollar as international money has been critical to U.S. imperialist hegemony. The explosion of private financial flows globally helped the United States preserve and establish its pivotal place at the center of the international financial markets and impose a “dollar standard.” However, this process also created the conditions for its own unraveling. The present crisis, an outcome of this unfettered growth and rising dominance of finance, lays bare the contradictions of the mechanisms of the dollar standard.\n",
            "6: Two developments summarize the process so far: (1) When panic hit, the U.S. dollar’s status as “international money” asserted itself, and the dollar rose against all currencies other than the yen. (2) The implosion of the financial system, however, has threatened the foundation of dollar hegemony—its central role in the proliferating web of global private capital flows. The current crisis is thus also potentially a crisis of dollar hegemony.\n",
            "7: The Bretton Woods negotiations at the end of the Second World War paved the way for establishing the dominance of the dollar as international money. This role was sustained by the confidence that the United States with its vast reserves of gold would honor the commitment to provide gold to foreign central banks in exchange for dollars at a fixed rate of $35 per ounce. By the end of the sixties, the growing trade deficit and the burdens of its military interventions in Vietnam created a huge dollar overhang abroad. In the face of increased demands for gold in exchange for dollars the United States unilaterally abandoned gold convertibility. This, however, did not lead to the dismantling of dollar hegemony. Instead, the refashioning of the international monetary system into a “floating dollar standard” in the post–Bretton Woods period was associated with the aggressive pursuit of liberalized financial markets in order to encourage private international capital flows denominated in dollars.\n",
            "8: In the 1970s the Eurodollar markets served as the principal means of recycling oil surpluses from the oil exporters to developing economies, particularly in Latin America. This process became a tool of resurgent U.S. political dominance. The 1970s military dictatorships in Chile, Indonesia, and Argentina, and the “Chicago School” free market regimes that followed, were bolstered by repression and supported by the readily available loans from U.S. banks flush with oil funds. Once this cheap bonanza of credit came to an end with the debt crisis in 1982, a new wave of neoliberal reforms and financial liberalization was imposed through the IMF–World Bank rescue packages. The crisis was deployed to further entrench the dominance of the dollar and U.S. imperialist agenda. In country after country the IMF and World Bank imposed “structural adjustment” policies during the crisis phase that destroyed all attempts at independent economic development while engulfing their financial systems in the ambit of dollar hegemony. This set in motion another surge of dollar denominated private capital flows to emerging markets and a fresh round of crisis in the 1990s when capital flowed back to the United States.\n",
            "9: Chart 2: Private capital flows to the United States and to emerging markets (billions of dollars) Source: U.S. Bureau of Economic Analysis, Global Development Finance.\n",
            "10: From 1973, up until about 2003 (the run-up to the present crisis) the periods when flows to emerging markets surged were also periods with a net efflux from the United States. As the surge comes to an end in the wake of capital flight and crisis, as in the Latin American debt crisis in 1982–83 and the Asian crisis in 1997–98, private capital flows are sucked back into the United States (see chart 2).\n",
            "11: The privileged role of the dollar provided the United States with an international line of credit that helped fuel a consumption binge. Cheap imports allowed consumption to be sustained despite stagnant or declining real wages. The export-led economies of Asia (first Japan, later East Asia and China) in turn depended on mass consumption in the United States to drive their economies. But the dependence on cheap imports precipitated growing trade deficits. Unlike other deficit countries the United States could, because of the dollar’s role as international money, finance its growing deficits by issuing its own debt in the form of the holding of reserves and U.S. Treasury bills (T-bills) by the creditor countries.\n",
            "12: The United States has played the role of the banker to the world, drawing in surpluses from Asia and the oil exporting countries, and recycling these in the form of private capital flows to emerging markets in the periphery. The countercyclical pattern of the private flows to emerging markets, noted above, was critical to the mechanism by which the dollar’s role was preserved. These private capital flows served as a safety-valve mechanism, enabling the export of crisis to the debtor-periphery. While the United States has not been immune to episodes of financial fragility in this period—such as the 1987 stock market crash, the savings and loan crisis of the late 1980s and early ’90s, the collapse of Long-Term Capital Management in 1998, or the dot-com bust at the turn of the century—the corresponding financial crises were far greater in the periphery. By 2007 however, this mechanism had begun to lose some traction.\n",
            "13: By 2007 the United States absorbed 65 percent of global capital imports compared to 34 percent in 1995, a culmination of more than a decade of worsening global imbalances. This was accompanied by a growing stockpiling of foreign reserves by emerging markets. The emerging economies turned from being current account deficit countries through the ’80s and ’90s to acquiring increasing surpluses since 2002. By 2006 developing countries were financing more than 70 percent of U.S. current account deficits (see chart 3). At the same time, after the experience of the Asian crisis, emerging markets perceived the need to increase precautionary holdings of foreign reserves in order to insulate their economies from the impact of capital flight. Reserve holdings by developing countries rose to about $2.7 trillion in 2006 of which about 60 percent are held as dollars. Thus the periphery was not vulnerable to capital flight and foreign exchange fluctuations in the same way as it had been in the previous decades.\n",
            "14: Chart 3: Current account balances of the United States and developing countries (billions of dollars) Source: U.S. Bureau of Economic Analysis, Global Development Finance.\n",
            "15: Another difference is that the countercyclical pattern of flows that characterized the period from 1973 is no longer in evidence after 2002 (see chart 2). After the collapse of the dot-com boom in 2002, instead of launching a new credit bubble in the emerging markets, the policies followed by Alan Greenspan helped stoke a bubble in the U.S. housing market. Buyers across the globe began investing in U.S. mortgage-backed assets, and over a trillion dollars of funds from around the globe were swallowed up by the U.S. subprime markets. This helped finance the purchase of homes all over the country, and enabled the growth of debt financed consumption. The financial bubble in the United States led to the emergence of a new pattern of dollar recycling that channeled capital flows from the surplus countries in the periphery towards U.S. markets. The exploding of the bubble with the collapse of the subprime mortgage market was associated with a reversal of the recycling mechanisms that exported fragility to the periphery through the ’80s and ’90s. The unraveling of the shadow banking system in 2007 was followed by a panic pull-out of foreign private capital from U.S. assets. This further exacerbated the crisis. Private capital inflows to the United States dropped significantly in 2007. This is when the dollar went into a sharp decline, which was, however, soon reversed.\n",
            "16: In the initial stages of the subprime crisis the impact was largely contained within the North Atlantic capitalist core of the United States and Europe (particularly the United Kingdom). Emerging markets were relatively less exposed to the market for mortgage-backed securities. Capital flows to emerging markets continued to rise and flows to developing countries surged in 2007 by about 40 percent from its 2006 level. Commodity exporters, in particular, were thriving on the basis of the boom in prices as investors went scrambling for returns to the commodity futures markets.\n",
            "17: However the events in the first two weeks of September—the rescue of Fannie Mae and Freddie Mac, the bankruptcy of Lehman Brothers, the fire sale of Merrill Lynch, and the rescue of AIG—heralded the complete freezing of credit markets. Financial institutions hoarded cash and demanded ever widening premiums before lending to one another. The contagion effects of the credit crisis in the United States now spread globally, leading to capital flight from Eastern Europe, Latin America, and Asia. At a time of world crisis when markets do not have any confidence in the ability of debtors to honor their debts, and have frozen lending, T-bills—in other words international money—became the safest bet.\n",
            "18: The dollar began to rise against a host of currencies (excluding the yen) as U.S. investors repatriated funds, speculators turned increasingly averse to risk amid the growing turmoil, and market operators sought dollars to meet their lenders’ demands. Investors and banks also began to withdraw their money from investment banks and hedge funds. The result was the fire sale of assets; “deleveraging” created a sudden desperate need for cash in the form of dollars.\n",
            "19: Even as the credit machinery remained jammed and the U.S. Treasury and the Federal Reserve (hereafter referred to as the Fed) were floundering through the different incarnations of the Troubled Assets Relief Plan, the global demand for T-bills grew. Though the Fed had cut short-term interest rates, the intense demand for Treasuries from financial institutions pushed the yield even lower, briefly below zero on December 8, 2008. Panicked institutional investors were more than willing to lose a little for fear of losing a lot, and dollars in the form of T-bills seemed the safest port in the storm.\n",
            "20: Marx had argued that capitalism’s propensity to financial crisis arises “where the ever-lengthening chain of payments, and an artificial system of settling them, has been fully developed.” The growth of finance which developed as a powerful force shaping dollar hegemony over the past three decades has bred such an artificial chain of payments internationally. In Marx’s analysis a credit crisis manifests the breakdown of “the chain of payments” that constitutes the financial system. This breakdown creates a frenzied clamor for “money” as the safest and most liquid, riskless asset. This collapse of the credit mechanism to its monetary roots—manifested in the resurgent demand for T-bills—is a classic sign of monetary crisis in the history of capitalism.\n",
            "21: Writing a year ago in Monthly Review, before the credit crunch had taken hold of the global financial system, I had suggested that the surge of capital flows to emerging markets through 2007 might create the conditions leading to a fresh wave of financial crises in the periphery and the revival of flows back into the United States. By the time the full force of the panic hit in September 2008 capital had begun flowing back to the United States, and outflows from emerging market bond and equity funds reached $29.5 billion between June and September 2008 (the highest level since at least 1995). The commodity bubble in developing countries also collapsed, as investors fled from all forms of risk, and export demand fell with the impact of recessionary forces in the United States, United Kingdom, and Europe. The accumulating surpluses and reserves in emerging markets began to erode. Stock markets crashed in Asia and Latin America as investors began pulling out and seeking the safety of the dollar.\n",
            "22: Capital flight from the emerging markets has precipitated a fall in some emerging market currencies of as much as 50 percent, fueling currency crises in Iceland, Hungary, and Ukraine. Eastern Europe has been particularly vulnerable. With current account deficits approaching 7 percent of GDP and private capital inflows amounting to 11 percent of GDP in 2007—a level that exceeds that of developing countries in Asia and Latin America—it is not surprising that a severe financial crisis erupted in Eastern Europe. But where the crises of 1982–83 and 1997–98 in Latin America and East Asia were effectively deployed to further U.S. hegemony, the current economic collapse of the “shock therapy” neocapitalist regimes in Eastern Europe is a challenge to U.S. imperialism, not an opportunity.\n",
            "23: Although the emerging markets are besieged by capital flight and confront the contradictions of their export-led development strategies, the unraveling in the periphery has not, in the much more serious world crisis of today, resulted in a renewal of the financial system at the center. The inflows to the United States are largely in the markets for U.S. Treasuries rather than into the battered private financial system. The European Union is denied similar recourse since there is no comparable market for sovereign debt at the level of the European Union. As a result, paradoxically liquidity in the U.S. markets remains at all-time highs. The real problem is that despite all this liquidity the credit machinery has refused to restart as banks and financial institutions remain wary of lending, and are simply stockpiling excess reserves. In other words the supply of money is way up but its velocity is even further down, keeping deflationary forces strong. Consequently, the international financial system shows no signs of revival.\n",
            "24: The Fed lies at the heart of the international financial system. It has to juggle the conflicting claims of maintaining U.S. imperial interests and domestic imperatives. The response of the Fed and the U.S. Treasury to the current crisis is shaped by these twin domestic and international imperatives.\n",
            "25: The Fed normally regulates the volume of credit in the economy by calibrating the Federal Funds rate (the rate at which banks lend surplus funds to one another) to expand or contract credit flows. But the implosion of the financial system undermined the efficacy of traditional policy tools. While the Fed has reduced its target interest rates to near zero, there has been virtually no impact on kick-starting lending.\n",
            "26: In these circumstances the strategy that the Fed has adopted to arrest the downward spiral of asset prices is to foment inflation by expanding the money supply. The Fed is injecting short-term liquidity into the financial system by buying T-bills (in exchange for newly created cash reserves) and holding them on the central bank’s balance sheet. This policy of inflating your way out of a crisis of falling asset prices is called “quantitative easing.” Moreover, the Fed’s policy under Bernanke is not restricted to the purchase of government securities but also involves “qualitative easing” or “credit easing”—taking onto its balance sheet a wide range of financial assets of lower quality than short-term Treasury obligations. One implication of this policy is that the Fed’s balance sheet is set to expand almost without limit. Its balance sheet rose from $874 billion in August 2007 to $900 billion before the fall of Lehman Brothers. Over the few months since, it has surged to about $2 trillion. During the last quarter of 2008 the share of Treasuries on the asset side of this ballooning balance sheet declined from 90 percent to 21 percent as the Fed acquired riskier assets, including mortgage-backed securities and commercial paper.\n",
            "27: One reason why this massive injection of funds is not translating into reflation is because financial institutions are hoarding money in the form of excess reserves kept at the Fed. From normal levels of around $7 billion, these reserves are currently pushing $1 trillion and are still rising. The problem is again that this credit crisis has resulted in a collapse of the paper edifice of the bloated financial system, forcing it back on its monetary base.\n",
            "28: By reassuring investors that it will hold overnight lending rates at near zero for the foreseeable future, the Fed has essentially given traders a cost-free way to borrow overnight and invest the proceeds in higher yielding assets. The implicit hope is that the increased borrowing will be used to purchase higher-risk financial assets and revive the securities markets and financial flows into the United States. In other words foster another bubble! The financial press is already warning of the possibilities of a Treasuries bubble.\n",
            "29: The danger is that this policy would propel a flight of currency from dollar markets. The announcement of the zero-interest-rate policy and quantitative easing halted the rapid rise of the dollar after four months in which the U.S. currency recorded its biggest gains since 2002. While the U.S. Treasury bill continues to remain a globally sought safe haven, that status is unlikely to remain unscathed. The market for Treasuries is likely to face a glut of T-bills in search of buyers, as the Fed balance sheet expands and so does the government’s need for finance. The increasing debt overhang may undermine confidence in U.S. Treasuries.\n",
            "30: It is quite clear that the U.S. imperial agenda of refashioning the post-crisis world in a way that preserves dollar hegemony depends critically on China, which has finally outpaced Japan as the biggest holder of U.S. Treasuries. China has in a sense been locked into dollar holdings because selling off its mountain of Treasuries would precipitate a crash of the dollar and a collapse of its (dollar) asset base. This “balance of financial terror” underlay the arrangement where China stockpiled dollar reserves in order to pursue its strategy of export-led growth. Even though China cannot sell off its mountain, it may not be able to continue to add to its pile at the same rate either. The slowdown in Chinese exports, which began to decline sharply in the last quarter of 2008, would mean a flagging demand for U.S. Treasuries at precisely the point when issuance is skyrocketing.\n",
            "31: The twin challenges for the U.S. imperial agenda are the restortion of the domestic economy and the refashioning of the battered global financial architecture to preserve the hegemony of the dollar. Despite all the talk of the renewal of financial regulation, Main Street prevailing over Wall Street, the reality is quite different. The slew of policies the Fed is adopting, and the ones that it has not adopted, suggest that they want a recovery of the domestic economy without constraining finance. This was quite apparent in the very distinct trajectories of the fiscal stimulus and the Wall Street rescue packages through Congress. However, internationally, the global recessionary forces that have been let loose with the credit crisis have also sparked a greater clamor for protection of domestic labor and industry, and for greater regulation and supervision of international capital flows. If this is sustained by a return to economically progressive agendas across the globe, and the strengthening of “South-South” mutual support networks—independent of the control of the United States—it would erode the dominance of finance, and would further weaken the privileged position of the United States at the heart of the international financial system.\n",
            "\n",
            "You can remove any paragraphs you deem unfit by running \n",
            "    paragraphs = drop_paragraphs(paragraphs, list_to_drop)\n",
            "where list_to_drop is a list of the above numbers.\n"
          ],
          "name": "stdout"
        }
      ]
    },
    {
      "cell_type": "code",
      "metadata": {
        "id": "6SSL-veRa3yR"
      },
      "source": [
        "paragraphs = drop_paragraphs(paragraphs, [1, 3, 9, 14]) # author + charts"
      ],
      "execution_count": 57,
      "outputs": []
    },
    {
      "cell_type": "code",
      "metadata": {
        "colab": {
          "base_uri": "https://localhost:8080/"
        },
        "id": "YJdkDUORbYQo",
        "outputId": "64492feb-5a8d-4e94-d038-5c55784a5e6a"
      },
      "source": [
        "create_abstract(paragraphs, title, authors, date)\n",
        "paragraph_chunks = chunk_paragraphs(paragraphs, granularity=2)\n",
        "# print(\"Number of chunks:\", len(paragraph_chunks))\n",
        "details_list = key_details(paragraph_chunks)"
      ],
      "execution_count": 58,
      "outputs": [
        {
          "output_type": "stream",
          "text": [
            "Title: The Credit Crisis: Is the International Role of the Dollar at Stake?\n",
            "Authors: ['Ramaa Vasudevan', 'The Editors', 'Hannah Holleman', 'Inger L. Stole', 'John\n",
            "Bellamy Foster', 'Robert W. Mcchesney', 'Simten Cosar', 'Metin Yegenoglu',\n",
            "'Martin Hart-Landsberg']\n",
            "Date: 2009-04-01\n",
            "\n",
            "Abstract: U.S. dollar plunged sharply after the subprime mortgage meltdown in 2007. But\n",
            "the deepening of the crisis following the bankruptcy of Lehman Brothers in\n",
            "September 2008 saw the dollar gain ground sharply. The privileged role of the\n",
            "dollar as international money has been critical to U.S imperialist hegemony. The\n",
            "implosion of the financial system has threatened the foundation of dollar\n",
            "hegemony, writes Ramaa Vasudevan.The current crisis is thus also potentially a\n",
            "crisis ofdollar hegemony.\n",
            "----------------------------------------------------------------------------------------------------\n",
            "Key Idea: Dollar plunged in 2007 after the meltdown of the subprime mortgage market.\n",
            "\n",
            "Details: The dollar plunged sharply in 2007 after the meltdown of the subprime mortgage\n",
            "market. But the deepening of the crisis following the bankruptcy of Lehman\n",
            "Brothers in September 2008 saw the dollar gain ground. The answer lies in the\n",
            "continuing role of the dollar as international money.For any other country a\n",
            "financial crisis of this magnitude would have sparked a full-scale currency\n",
            "crisis.\n",
            "----------------------------------------------------------------------------------------------------\n",
            "Key Idea: The Bretton Woods negotiations at the end of the Second World War paved the way\n",
            "for the dominance of the dollar as international money.\n",
            "\n",
            "Details: The Bretton Woods negotiations at the end of the Second World War paved the way\n",
            "for establishing the dominance of the dollar as international money. The\n",
            "implosion of the financial system has threatened the foundation of dollar\n",
            "hegemony. The current crisis is thus also potentially a crisis ofdollar\n",
            "hegemony. In country after country the IMF and World Bank imposed “structural\n",
            "adjustment” policies during the crisis phase.\n",
            "----------------------------------------------------------------------------------------------------\n",
            "Key Idea: The privileged role of the dollar provided the United States with an\n",
            "international line of credit that helped fuel a consumption binge.\n",
            "\n",
            "Details: The privileged role of the dollar provided the U.S. with an international line\n",
            "of credit. Cheap imports allowed consumption to be sustained despite stagnant or\n",
            "declining real wages. The export-led economies of Asia depended on mass\n",
            "consumption in the United States to drive their economies. But the dependence on\n",
            "cheap imports precipitated growing trade deficits. The United States absorbed 65\n",
            "percent of global capital imports compared to 34 percent in 1995.\n",
            "----------------------------------------------------------------------------------------------------\n",
            "Key Idea: In the initial stages of the subprime crisis the impact was largely contained\n",
            "within the North Atlantic capitalist core of the United States and Europe.\n",
            "\n",
            "Details: Capital flows to emerging markets surged in 2007 by about 40 percent from its\n",
            "2006 level. Capital flight from Eastern Europe, Latin America, and Asia followed\n",
            "the credit crisis. Marx had argued that capitalism’s propensity to financial\n",
            "crisis arises “where the ever-lengthening chain of payments, and an artificial\n",
            "system of settling them, has been fully developed.” The growth of finance which\n",
            "developed as a powerful force shaping dollar hegemony over the past three\n",
            "decades has bred such an artificial chain of Payments.\n",
            "----------------------------------------------------------------------------------------------------\n",
            "Key Idea: Capital flight from the emerging markets has precipitated a fall in some\n",
            "emerging market currencies of as much as 50 percent.\n",
            "\n",
            "Details: Capital flight from emerging markets has precipitated a fall in some emerging\n",
            "market currencies. Central bank's response to the crisis is shaped by domestic\n",
            "and international imperatives.The Fed has to juggle the conflicting claims of\n",
            "maintaining U.S. imperial interests and domestic imperatives. Zelizer: In these\n",
            "circumstances the strategy that the Fed has adopted to arrest the downward\n",
            "spiral of asset prices is to foment inflation.\n",
            "----------------------------------------------------------------------------------------------------\n",
            "Key Idea: China has finally outpaced Japan as the biggest holder of U.S. Treasuries.\n",
            "\n",
            "Details:  China has in a sense been locked into dollar holdings because selling off would\n",
            "precipitate a crash of the dollar and a collapse of its asset base. The slowdown\n",
            "in Chinese exports, which began to decline sharply in the last quarter of 2008,\n",
            "would mean a flagging demand for U.s. Tre asuries.\n"
          ],
          "name": "stdout"
        }
      ]
    },
    {
      "cell_type": "markdown",
      "metadata": {
        "id": "_vQo_yLgUebg"
      },
      "source": [
        "This looks good as well. Can we generate a summary of the important information?"
      ]
    },
    {
      "cell_type": "code",
      "metadata": {
        "id": "xUjMagvipbtd"
      },
      "source": [
        "def generate_summary(details_list, authors, granularity=2):\n",
        "  \"\"\"generates summary\"\"\"\n",
        "  paragraph_chunks = chunk_paragraphs(details_list, granularity=granularity)\n",
        "  # print(\"Number of chunks:\", len(paragraph_chunks))\n",
        "  print(\"Summary:\\n\")\n",
        "  for chunk in paragraph_chunks:\n",
        "    inputs = cnn_tokenizer([chunk], max_length=1024, truncation=True, # limited to first 1024 tokens\n",
        "                          return_tensors='pt')\n",
        "    summary_ids = cnn_model.generate(inputs['input_ids'], num_return_sequences=1,\n",
        "                                    early_stopping=True, num_beams=3,\n",
        "                                    min_length=80, max_length=120, \n",
        "                                    do_sample=False)\n",
        "    summary = cnn_tokenizer.decode(summary_ids[0], skip_special_tokens=True, clean_up_tokenization_spaces=True)\n",
        "    summary = re.sub(r\", writes ([^\\s]+) ([^\\s]+).\", \", writes {}.\".format(authors[0]), summary) # sometimes misses authors name\n",
        "    summary = re.sub(r\", says ([^\\s]+) ([^\\s]+)\", \"\", summary)\n",
        "    summary = re.sub(r\"\\. \\b[A-Z].*?\\b\\: \", \". \", summary) # sometimes misses authors name\n",
        "    print(wrapper.fill(summary), \"\\n\")\n",
        "\n"
      ],
      "execution_count": 77,
      "outputs": []
    },
    {
      "cell_type": "code",
      "metadata": {
        "colab": {
          "base_uri": "https://localhost:8080/"
        },
        "id": "Oo2vq1ItU_eH",
        "outputId": "fb02b4ca-563f-4838-fad8-30cc4888a1bc"
      },
      "source": [
        "generate_summary(details_list, authors)"
      ],
      "execution_count": 78,
      "outputs": [
        {
          "output_type": "stream",
          "text": [
            "Summary:\n",
            "\n",
            "The dollar plunged sharply in 2007 after the meltdown of the subprime mortgage\n",
            "market. But the deepening of the crisis following the bankruptcy of Lehman\n",
            "Brothers in September 2008 saw the dollar gain ground. Bretton Woods\n",
            "negotiations at the end of the Second World War paved the way for establishing\n",
            "the dominance of the dollar as international money. The implosion of the\n",
            "financial system has threatened the foundation of dollar hegemony. \n",
            "\n",
            "The privileged role of the dollar provided the U.S. with an international line\n",
            "of credit. In these circumstances the strategy that the Fed has adopted to\n",
            "arrest the downward spiral of asset prices is to foment inflation.  China has in\n",
            "a sense been locked into dollar holdings because selling off would precipitate a\n",
            "crash. \n",
            "\n"
          ],
          "name": "stdout"
        }
      ]
    },
    {
      "cell_type": "code",
      "metadata": {
        "id": "T-0G9cISVS6B"
      },
      "source": [
        ""
      ],
      "execution_count": null,
      "outputs": []
    }
  ]
}